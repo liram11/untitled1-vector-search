{
 "cells": [
  {
   "cell_type": "code",
   "execution_count": 1,
   "metadata": {},
   "outputs": [],
   "source": [
    "%load_ext autoreload\n",
    "%autoreload 2"
   ]
  },
  {
   "cell_type": "code",
   "execution_count": 2,
   "metadata": {},
   "outputs": [
    {
     "name": "stdout",
     "output_type": "stream",
     "text": [
      "Note: you may need to restart the kernel to use updated packages.\n"
     ]
    }
   ],
   "source": [
    "%pip install -q -r requirements.txt"
   ]
  },
  {
   "cell_type": "code",
   "execution_count": 3,
   "metadata": {},
   "outputs": [],
   "source": [
    "import json\n",
    "import pandas as pd\n",
    "import os\n",
    "import re\n",
    "import string\n",
    "import pickle\n",
    "from transformers import BertForSequenceClassification\n",
    "from sklearn.preprocessing import MultiLabelBinarizer\n",
    "from transformers import AutoTokenizer\n",
    "from sklearn.metrics import f1_score, roc_auc_score, accuracy_score\n",
    "from transformers import EvalPrediction\n",
    "import torch\n",
    "from transformers import TrainingArguments, Trainer\n",
    "from datasets import Dataset\n",
    "import numpy as np\n",
    "from sklearn.model_selection import train_test_split\n",
    "\n",
    "from vecsim_app.categories import CATEGORIES\n",
    "from vecsim_app.data_utils import papers\n",
    "\n",
    "DATA_PATH = \"/home/jovyan/arxiv/arxiv-metadata-oai-snapshot.json\"\n",
    "YEAR_CUTOFF = 2012\n",
    "YEAR_PATTERN = r\"(19|20[0-9]{2})\""
   ]
  },
  {
   "cell_type": "code",
   "execution_count": 4,
   "metadata": {},
   "outputs": [
    {
     "data": {
      "text/plain": [
       "409500"
      ]
     },
     "execution_count": 4,
     "metadata": {},
     "output_type": "execute_result"
    }
   ],
   "source": [
    "df = pd.DataFrame(papers(data_path=DATA_PATH, year_cutoff=YEAR_CUTOFF, year_pattern=YEAR_PATTERN))\n",
    "len(df)"
   ]
  },
  {
   "cell_type": "code",
   "execution_count": 5,
   "metadata": {},
   "outputs": [
    {
     "data": {
      "text/html": [
       "<div>\n",
       "<style scoped>\n",
       "    .dataframe tbody tr th:only-of-type {\n",
       "        vertical-align: middle;\n",
       "    }\n",
       "\n",
       "    .dataframe tbody tr th {\n",
       "        vertical-align: top;\n",
       "    }\n",
       "\n",
       "    .dataframe thead th {\n",
       "        text-align: right;\n",
       "    }\n",
       "</style>\n",
       "<table border=\"1\" class=\"dataframe\">\n",
       "  <thead>\n",
       "    <tr style=\"text-align: right;\">\n",
       "      <th></th>\n",
       "      <th>id</th>\n",
       "      <th>title</th>\n",
       "      <th>year</th>\n",
       "      <th>authors</th>\n",
       "      <th>categories</th>\n",
       "      <th>abstract</th>\n",
       "    </tr>\n",
       "  </thead>\n",
       "  <tbody>\n",
       "    <tr>\n",
       "      <th>0</th>\n",
       "      <td>0704.0304</td>\n",
       "      <td>The World as Evolving Information</td>\n",
       "      <td>2012</td>\n",
       "      <td>Carlos Gershenson</td>\n",
       "      <td>cs.IT,cs.AI,math.IT,q-bio.PE</td>\n",
       "      <td>This paper discusses the benefits of describ...</td>\n",
       "    </tr>\n",
       "    <tr>\n",
       "      <th>1</th>\n",
       "      <td>0704.2744</td>\n",
       "      <td>Nahm transform and parabolic minimal Laplace t...</td>\n",
       "      <td>2012</td>\n",
       "      <td>Szilard Szabo</td>\n",
       "      <td>math.AG</td>\n",
       "      <td>We prove that Nahm transform for integrable ...</td>\n",
       "    </tr>\n",
       "    <tr>\n",
       "      <th>2</th>\n",
       "      <td>0704.2768</td>\n",
       "      <td>Heat Equations and the Weighted $\\bar\\partial$...</td>\n",
       "      <td>2012</td>\n",
       "      <td>Andrew Raich</td>\n",
       "      <td>math.AP,math.CV</td>\n",
       "      <td>The purpose of this article is to establish ...</td>\n",
       "    </tr>\n",
       "  </tbody>\n",
       "</table>\n",
       "</div>"
      ],
      "text/plain": [
       "          id                                              title  year  \\\n",
       "0  0704.0304                  The World as Evolving Information  2012   \n",
       "1  0704.2744  Nahm transform and parabolic minimal Laplace t...  2012   \n",
       "2  0704.2768  Heat Equations and the Weighted $\\bar\\partial$...  2012   \n",
       "\n",
       "             authors                    categories  \\\n",
       "0  Carlos Gershenson  cs.IT,cs.AI,math.IT,q-bio.PE   \n",
       "1      Szilard Szabo                       math.AG   \n",
       "2       Andrew Raich               math.AP,math.CV   \n",
       "\n",
       "                                            abstract  \n",
       "0    This paper discusses the benefits of describ...  \n",
       "1    We prove that Nahm transform for integrable ...  \n",
       "2    The purpose of this article is to establish ...  "
      ]
     },
     "execution_count": 5,
     "metadata": {},
     "output_type": "execute_result"
    }
   ],
   "source": [
    "df.head(3)"
   ]
  },
  {
   "cell_type": "code",
   "execution_count": 6,
   "metadata": {},
   "outputs": [],
   "source": [
    "df['text'] = df['title'] + ' ' + df['abstract']\n",
    "# df['categories'] = df['categories'].apply(lambda x: x.split(','))"
   ]
  },
  {
   "cell_type": "code",
   "execution_count": 7,
   "metadata": {},
   "outputs": [
    {
     "data": {
      "text/plain": [
       "'cs.IT,cs.AI,math.IT,q-bio.PE'"
      ]
     },
     "execution_count": 7,
     "metadata": {},
     "output_type": "execute_result"
    }
   ],
   "source": [
    "df.iloc[0].categories"
   ]
  },
  {
   "cell_type": "code",
   "execution_count": 8,
   "metadata": {},
   "outputs": [
    {
     "data": {
      "text/plain": [
       "(2866500, 1375920, 343980)"
      ]
     },
     "execution_count": 8,
     "metadata": {},
     "output_type": "execute_result"
    }
   ],
   "source": [
    "# Split into train and test\n",
    "df_2, df_unused = train_test_split(df, train_size=0.6)  # take only 60% of dataset\n",
    "df_train, df_test = train_test_split(df_2, train_size=0.8)\n",
    "\n",
    "df.size, df_train.size, df_test.size"
   ]
  },
  {
   "cell_type": "code",
   "execution_count": 9,
   "metadata": {},
   "outputs": [],
   "source": [
    "def get_tokenizer(tokenizer_model):\n",
    "    def tokenize_function(examples):\n",
    "        return tokenizer(examples[\"text\"], padding=\"max_length\", truncation=True)\n",
    "\n",
    "    tokenizer = AutoTokenizer.from_pretrained(tokenizer_model)\n",
    "    return tokenize_function, tokenizer\n",
    "\n",
    "tokenize_function, tokenizer = get_tokenizer('bert-base-uncased')"
   ]
  },
  {
   "cell_type": "code",
   "execution_count": 10,
   "metadata": {},
   "outputs": [
    {
     "data": {
      "text/plain": [
       "array(['astro-ph', 'astro-ph.CO', 'astro-ph.EP', 'astro-ph.GA',\n",
       "       'astro-ph.HE', 'astro-ph.IM', 'astro-ph.SR', 'cond-mat.dis-nn',\n",
       "       'cond-mat.mes-hall', 'cond-mat.mtrl-sci'], dtype=object)"
      ]
     },
     "execution_count": 10,
     "metadata": {},
     "output_type": "execute_result"
    }
   ],
   "source": [
    "mlb = MultiLabelBinarizer()\n",
    "# mlb.fit([[(k,v) for k, v in CATEGORIES.items()]]) #df_train['categories'])\n",
    "mlb.fit([list(CATEGORIES.keys())]) #df_train['categories'])\n",
    "mlb.classes_[:10]"
   ]
  },
  {
   "cell_type": "code",
   "execution_count": 11,
   "metadata": {},
   "outputs": [],
   "source": [
    "def preprocess_data(examples):\n",
    "    # take a batch of texts\n",
    "    text = examples[\"text\"]\n",
    "\n",
    "    # encode them\n",
    "    encoding = tokenizer(text, padding=\"max_length\", truncation=True, max_length=128)\n",
    "\n",
    "    encoded_categories = mlb.transform([c.split(',') for c in examples['categories']]).astype(float)\n",
    "\n",
    "    encoding[\"labels\"] = encoded_categories\n",
    "\n",
    "    return encoding"
   ]
  },
  {
   "cell_type": "code",
   "execution_count": 12,
   "metadata": {},
   "outputs": [
    {
     "data": {
      "application/vnd.jupyter.widget-view+json": {
       "model_id": "f9979c88b293438aa0e95b2ed6f742ca",
       "version_major": 2,
       "version_minor": 0
      },
      "text/plain": [
       "  0%|          | 0/197 [00:00<?, ?ba/s]"
      ]
     },
     "metadata": {},
     "output_type": "display_data"
    },
    {
     "name": "stderr",
     "output_type": "stream",
     "text": [
      "/srv/conda/envs/saturn/lib/python3.9/site-packages/sklearn/preprocessing/_label.py:878: UserWarning: unknown class(es) ['econ.GN', 'eess.SY'] will be ignored\n",
      "  warnings.warn(\n",
      "/srv/conda/envs/saturn/lib/python3.9/site-packages/sklearn/preprocessing/_label.py:878: UserWarning: unknown class(es) ['eess.SY'] will be ignored\n",
      "  warnings.warn(\n",
      "/srv/conda/envs/saturn/lib/python3.9/site-packages/sklearn/preprocessing/_label.py:878: UserWarning: unknown class(es) ['econ.GN', 'econ.TH', 'eess.SY'] will be ignored\n",
      "  warnings.warn(\n",
      "/srv/conda/envs/saturn/lib/python3.9/site-packages/sklearn/preprocessing/_label.py:878: UserWarning: unknown class(es) ['econ.TH', 'eess.SY'] will be ignored\n",
      "  warnings.warn(\n",
      "/srv/conda/envs/saturn/lib/python3.9/site-packages/sklearn/preprocessing/_label.py:878: UserWarning: unknown class(es) ['chao-dyn', 'econ.GN', 'econ.TH', 'eess.SY'] will be ignored\n",
      "  warnings.warn(\n",
      "/srv/conda/envs/saturn/lib/python3.9/site-packages/sklearn/preprocessing/_label.py:878: UserWarning: unknown class(es) ['alg-geom', 'econ.GN', 'econ.TH', 'eess.SY'] will be ignored\n",
      "  warnings.warn(\n",
      "/srv/conda/envs/saturn/lib/python3.9/site-packages/sklearn/preprocessing/_label.py:878: UserWarning: unknown class(es) ['econ.GN'] will be ignored\n",
      "  warnings.warn(\n",
      "/srv/conda/envs/saturn/lib/python3.9/site-packages/sklearn/preprocessing/_label.py:878: UserWarning: unknown class(es) ['cond-mat', 'econ.TH', 'eess.SY'] will be ignored\n",
      "  warnings.warn(\n",
      "/srv/conda/envs/saturn/lib/python3.9/site-packages/sklearn/preprocessing/_label.py:878: UserWarning: unknown class(es) ['econ.GN', 'eess.SY', 'solv-int'] will be ignored\n",
      "  warnings.warn(\n",
      "/srv/conda/envs/saturn/lib/python3.9/site-packages/sklearn/preprocessing/_label.py:878: UserWarning: unknown class(es) ['econ.TH'] will be ignored\n",
      "  warnings.warn(\n",
      "/srv/conda/envs/saturn/lib/python3.9/site-packages/sklearn/preprocessing/_label.py:878: UserWarning: unknown class(es) ['cond-mat', 'eess.SY'] will be ignored\n",
      "  warnings.warn(\n",
      "/srv/conda/envs/saturn/lib/python3.9/site-packages/sklearn/preprocessing/_label.py:878: UserWarning: unknown class(es) ['econ.TH', 'eess.SY', 'q-alg'] will be ignored\n",
      "  warnings.warn(\n"
     ]
    },
    {
     "data": {
      "application/vnd.jupyter.widget-view+json": {
       "model_id": "1b1c528969a945e7886caa5a7a41aa6c",
       "version_major": 2,
       "version_minor": 0
      },
      "text/plain": [
       "  0%|          | 0/50 [00:00<?, ?ba/s]"
      ]
     },
     "metadata": {},
     "output_type": "display_data"
    },
    {
     "name": "stderr",
     "output_type": "stream",
     "text": [
      "/srv/conda/envs/saturn/lib/python3.9/site-packages/sklearn/preprocessing/_label.py:878: UserWarning: unknown class(es) ['eess.SY'] will be ignored\n",
      "  warnings.warn(\n",
      "/srv/conda/envs/saturn/lib/python3.9/site-packages/sklearn/preprocessing/_label.py:878: UserWarning: unknown class(es) ['econ.GN', 'eess.SY'] will be ignored\n",
      "  warnings.warn(\n",
      "/srv/conda/envs/saturn/lib/python3.9/site-packages/sklearn/preprocessing/_label.py:878: UserWarning: unknown class(es) ['econ.TH', 'eess.SY'] will be ignored\n",
      "  warnings.warn(\n",
      "/srv/conda/envs/saturn/lib/python3.9/site-packages/sklearn/preprocessing/_label.py:878: UserWarning: unknown class(es) ['econ.GN', 'econ.TH', 'eess.SY'] will be ignored\n",
      "  warnings.warn(\n",
      "/srv/conda/envs/saturn/lib/python3.9/site-packages/sklearn/preprocessing/_label.py:878: UserWarning: unknown class(es) ['econ.GN'] will be ignored\n",
      "  warnings.warn(\n",
      "/srv/conda/envs/saturn/lib/python3.9/site-packages/sklearn/preprocessing/_label.py:878: UserWarning: unknown class(es) ['cond-mat', 'econ.GN', 'eess.SY'] will be ignored\n",
      "  warnings.warn(\n"
     ]
    }
   ],
   "source": [
    "df_train_hf = Dataset.from_pandas(df_train[['text', 'categories']])\n",
    "tokenized_train = df_train_hf.map(preprocess_data, batched=True)\n",
    "\n",
    "df_test_hf = Dataset.from_pandas(df_test[['text', 'categories']])\n",
    "tokenized_test = df_test_hf.map(preprocess_data, batched=True)"
   ]
  },
  {
   "cell_type": "code",
   "execution_count": 13,
   "metadata": {},
   "outputs": [
    {
     "name": "stdout",
     "output_type": "stream",
     "text": [
      "Reversed [('quant-ph',)]\n",
      "Original categories quant-ph\n"
     ]
    }
   ],
   "source": [
    "# Debugging - get inverse transform\n",
    "\n",
    "print(\"Reversed\", mlb.inverse_transform(np.asarray(tokenized_test[0]['labels']).reshape(1, -1)))\n",
    "print(\"Original categories\", tokenized_test[0]['categories'])"
   ]
  },
  {
   "cell_type": "code",
   "execution_count": 14,
   "metadata": {},
   "outputs": [
    {
     "name": "stdout",
     "output_type": "stream",
     "text": [
      "huggingface/tokenizers: The current process just got forked, after parallelism has already been used. Disabling parallelism to avoid deadlocks...\n",
      "To disable this warning, you can either:\n",
      "\t- Avoid using `tokenizers` before the fork if possible\n",
      "\t- Explicitly set the environment variable TOKENIZERS_PARALLELISM=(true | false)\n",
      "huggingface/tokenizers: The current process just got forked, after parallelism has already been used. Disabling parallelism to avoid deadlocks...\n",
      "To disable this warning, you can either:\n",
      "\t- Avoid using `tokenizers` before the fork if possible\n",
      "\t- Explicitly set the environment variable TOKENIZERS_PARALLELISM=(true | false)\n"
     ]
    }
   ],
   "source": [
    "!rm -r checkpoint\n",
    "!mkdir checkpoint\n",
    "with open('checkpoint/mlb.pkl', 'wb') as handle:\n",
    "    pickle.dump(mlb, handle, protocol=pickle.HIGHEST_PROTOCOL)"
   ]
  },
  {
   "cell_type": "markdown",
   "metadata": {},
   "source": [
    "## Training multi label class model"
   ]
  },
  {
   "cell_type": "code",
   "execution_count": 15,
   "metadata": {},
   "outputs": [
    {
     "name": "stderr",
     "output_type": "stream",
     "text": [
      "Some weights of the model checkpoint at bert-base-uncased were not used when initializing BertForSequenceClassification: ['cls.predictions.transform.dense.weight', 'cls.predictions.transform.dense.bias', 'cls.seq_relationship.bias', 'cls.predictions.transform.LayerNorm.bias', 'cls.seq_relationship.weight', 'cls.predictions.bias', 'cls.predictions.decoder.weight', 'cls.predictions.transform.LayerNorm.weight']\n",
      "- This IS expected if you are initializing BertForSequenceClassification from the checkpoint of a model trained on another task or with another architecture (e.g. initializing a BertForSequenceClassification model from a BertForPreTraining model).\n",
      "- This IS NOT expected if you are initializing BertForSequenceClassification from the checkpoint of a model that you expect to be exactly identical (initializing a BertForSequenceClassification model from a BertForSequenceClassification model).\n",
      "Some weights of BertForSequenceClassification were not initialized from the model checkpoint at bert-base-uncased and are newly initialized: ['classifier.bias', 'classifier.weight']\n",
      "You should probably TRAIN this model on a down-stream task to be able to use it for predictions and inference.\n"
     ]
    }
   ],
   "source": [
    "model = BertForSequenceClassification.from_pretrained(\n",
    "    \"bert-base-uncased\", \n",
    "    num_labels=len(mlb.classes_), \n",
    "    problem_type=\"multi_label_classification\"\n",
    ")"
   ]
  },
  {
   "cell_type": "code",
   "execution_count": 16,
   "metadata": {},
   "outputs": [],
   "source": [
    "# Adaptation: https://github.com/NielsRogge/Transformers-Tutorials/blob/master/BERT/Fine_tuning_BERT_(and_friends)_for_multi_label_text_classification.ipynb \n",
    "# \n",
    "batch_size = 75\n",
    "metric_name = \"f1\"\n",
    "\n",
    "args = TrainingArguments(\n",
    "    f\"paper-multilabel-finetuning\",\n",
    "    evaluation_strategy=\"epoch\",\n",
    "    save_strategy=\"epoch\",\n",
    "    save_total_limit=1,\n",
    "    learning_rate=2e-5,\n",
    "    per_device_train_batch_size=batch_size,\n",
    "    per_device_eval_batch_size=batch_size//2,\n",
    "    num_train_epochs=5,\n",
    "    weight_decay=0.01,\n",
    "    load_best_model_at_end=True,\n",
    "    metric_for_best_model=metric_name,\n",
    "    eval_accumulation_steps=1,\n",
    ")\n",
    "\n",
    "\n",
    "# source: https://jesusleal.io/2021/04/21/Longformer-multilabel-classification/\n",
    "def multi_label_metrics(predictions, labels, threshold=0.5):\n",
    "    # first, apply sigmoid on predictions which are of shape (batch_size, num_labels)\n",
    "    sigmoid = torch.nn.Sigmoid()\n",
    "    probs = sigmoid(torch.Tensor(predictions))\n",
    "    # next, use threshold to turn them into integer predictions\n",
    "    y_pred = np.zeros(probs.shape)\n",
    "    y_pred[np.where(probs >= threshold)] = 1\n",
    "    # finally, compute metrics\n",
    "    y_true = labels\n",
    "    f1_micro_average = f1_score(y_true=y_true, y_pred=y_pred, average='micro')\n",
    "    roc_auc = roc_auc_score(y_true, y_pred, average = 'micro')\n",
    "    accuracy = accuracy_score(y_true, y_pred)\n",
    "    # return as dictionary\n",
    "    metrics = {'f1': f1_micro_average,\n",
    "               'roc_auc': roc_auc,\n",
    "               'accuracy': accuracy}\n",
    "    return metrics\n",
    "\n",
    "def compute_metrics(p: EvalPrediction):\n",
    "    preds = p.predictions[0] if isinstance(p.predictions, \n",
    "            tuple) else p.predictions\n",
    "    return multi_label_metrics(\n",
    "        predictions=p.predictions, \n",
    "        labels=p.label_ids)"
   ]
  },
  {
   "cell_type": "code",
   "execution_count": 17,
   "metadata": {},
   "outputs": [],
   "source": [
    "trainer = Trainer(\n",
    "    model,\n",
    "    args,\n",
    "    train_dataset=tokenized_train,\n",
    "    eval_dataset=tokenized_test,\n",
    "    tokenizer=tokenizer,\n",
    "    compute_metrics=compute_metrics\n",
    ")"
   ]
  },
  {
   "cell_type": "code",
   "execution_count": 18,
   "metadata": {},
   "outputs": [
    {
     "name": "stderr",
     "output_type": "stream",
     "text": [
      "The following columns in the training set don't have a corresponding argument in `BertForSequenceClassification.forward` and have been ignored: __index_level_0__, text, categories. If __index_level_0__, text, categories are not expected by `BertForSequenceClassification.forward`,  you can safely ignore this message.\n",
      "/srv/conda/envs/saturn/lib/python3.9/site-packages/transformers/optimization.py:306: FutureWarning: This implementation of AdamW is deprecated and will be removed in a future version. Use the PyTorch implementation torch.optim.AdamW instead, or set `no_deprecation_warning=True` to disable this warning\n",
      "  warnings.warn(\n",
      "***** Running training *****\n",
      "  Num examples = 196560\n",
      "  Num Epochs = 5\n",
      "  Instantaneous batch size per device = 75\n",
      "  Total train batch size (w. parallel, distributed & accumulation) = 75\n",
      "  Gradient Accumulation steps = 1\n",
      "  Total optimization steps = 13105\n",
      "You're using a BertTokenizerFast tokenizer. Please note that with a fast tokenizer, using the `__call__` method is faster than using a method to encode the text followed by a call to the `pad` method to get a padded encoding.\n"
     ]
    },
    {
     "data": {
      "text/html": [
       "\n",
       "    <div>\n",
       "      \n",
       "      <progress value='13105' max='13105' style='width:300px; height:20px; vertical-align: middle;'></progress>\n",
       "      [13105/13105 6:30:57, Epoch 5/5]\n",
       "    </div>\n",
       "    <table border=\"1\" class=\"dataframe\">\n",
       "  <thead>\n",
       " <tr style=\"text-align: left;\">\n",
       "      <th>Epoch</th>\n",
       "      <th>Training Loss</th>\n",
       "      <th>Validation Loss</th>\n",
       "      <th>F1</th>\n",
       "      <th>Roc Auc</th>\n",
       "      <th>Accuracy</th>\n",
       "    </tr>\n",
       "  </thead>\n",
       "  <tbody>\n",
       "    <tr>\n",
       "      <td>1</td>\n",
       "      <td>0.047000</td>\n",
       "      <td>0.042835</td>\n",
       "      <td>0.092858</td>\n",
       "      <td>0.524497</td>\n",
       "      <td>0.044444</td>\n",
       "    </tr>\n",
       "    <tr>\n",
       "      <td>2</td>\n",
       "      <td>0.031400</td>\n",
       "      <td>0.029638</td>\n",
       "      <td>0.480396</td>\n",
       "      <td>0.670524</td>\n",
       "      <td>0.255881</td>\n",
       "    </tr>\n",
       "    <tr>\n",
       "      <td>3</td>\n",
       "      <td>0.026100</td>\n",
       "      <td>0.025347</td>\n",
       "      <td>0.563034</td>\n",
       "      <td>0.716737</td>\n",
       "      <td>0.312576</td>\n",
       "    </tr>\n",
       "    <tr>\n",
       "      <td>4</td>\n",
       "      <td>0.023600</td>\n",
       "      <td>0.023715</td>\n",
       "      <td>0.591987</td>\n",
       "      <td>0.734537</td>\n",
       "      <td>0.336264</td>\n",
       "    </tr>\n",
       "    <tr>\n",
       "      <td>5</td>\n",
       "      <td>0.022300</td>\n",
       "      <td>0.023287</td>\n",
       "      <td>0.599795</td>\n",
       "      <td>0.739657</td>\n",
       "      <td>0.343000</td>\n",
       "    </tr>\n",
       "  </tbody>\n",
       "</table><p>"
      ],
      "text/plain": [
       "<IPython.core.display.HTML object>"
      ]
     },
     "metadata": {},
     "output_type": "display_data"
    },
    {
     "name": "stderr",
     "output_type": "stream",
     "text": [
      "The following columns in the evaluation set don't have a corresponding argument in `BertForSequenceClassification.forward` and have been ignored: __index_level_0__, text, categories. If __index_level_0__, text, categories are not expected by `BertForSequenceClassification.forward`,  you can safely ignore this message.\n",
      "***** Running Evaluation *****\n",
      "  Num examples = 49140\n",
      "  Batch size = 37\n",
      "Saving model checkpoint to paper-multilabel-finetuning/checkpoint-2621\n",
      "Configuration saved in paper-multilabel-finetuning/checkpoint-2621/config.json\n",
      "Model weights saved in paper-multilabel-finetuning/checkpoint-2621/pytorch_model.bin\n",
      "tokenizer config file saved in paper-multilabel-finetuning/checkpoint-2621/tokenizer_config.json\n",
      "Special tokens file saved in paper-multilabel-finetuning/checkpoint-2621/special_tokens_map.json\n",
      "Deleting older checkpoint [paper-multilabel-finetuning/checkpoint-33] due to args.save_total_limit\n",
      "Deleting older checkpoint [paper-multilabel-finetuning/checkpoint-165] due to args.save_total_limit\n",
      "The following columns in the evaluation set don't have a corresponding argument in `BertForSequenceClassification.forward` and have been ignored: __index_level_0__, text, categories. If __index_level_0__, text, categories are not expected by `BertForSequenceClassification.forward`,  you can safely ignore this message.\n",
      "***** Running Evaluation *****\n",
      "  Num examples = 49140\n",
      "  Batch size = 37\n",
      "Saving model checkpoint to paper-multilabel-finetuning/checkpoint-5242\n",
      "Configuration saved in paper-multilabel-finetuning/checkpoint-5242/config.json\n",
      "Model weights saved in paper-multilabel-finetuning/checkpoint-5242/pytorch_model.bin\n",
      "tokenizer config file saved in paper-multilabel-finetuning/checkpoint-5242/tokenizer_config.json\n",
      "Special tokens file saved in paper-multilabel-finetuning/checkpoint-5242/special_tokens_map.json\n",
      "Deleting older checkpoint [paper-multilabel-finetuning/checkpoint-2621] due to args.save_total_limit\n",
      "The following columns in the evaluation set don't have a corresponding argument in `BertForSequenceClassification.forward` and have been ignored: __index_level_0__, text, categories. If __index_level_0__, text, categories are not expected by `BertForSequenceClassification.forward`,  you can safely ignore this message.\n",
      "***** Running Evaluation *****\n",
      "  Num examples = 49140\n",
      "  Batch size = 37\n",
      "Saving model checkpoint to paper-multilabel-finetuning/checkpoint-7863\n",
      "Configuration saved in paper-multilabel-finetuning/checkpoint-7863/config.json\n",
      "Model weights saved in paper-multilabel-finetuning/checkpoint-7863/pytorch_model.bin\n",
      "tokenizer config file saved in paper-multilabel-finetuning/checkpoint-7863/tokenizer_config.json\n",
      "Special tokens file saved in paper-multilabel-finetuning/checkpoint-7863/special_tokens_map.json\n",
      "Deleting older checkpoint [paper-multilabel-finetuning/checkpoint-5242] due to args.save_total_limit\n",
      "The following columns in the evaluation set don't have a corresponding argument in `BertForSequenceClassification.forward` and have been ignored: __index_level_0__, text, categories. If __index_level_0__, text, categories are not expected by `BertForSequenceClassification.forward`,  you can safely ignore this message.\n",
      "***** Running Evaluation *****\n",
      "  Num examples = 49140\n",
      "  Batch size = 37\n",
      "Saving model checkpoint to paper-multilabel-finetuning/checkpoint-10484\n",
      "Configuration saved in paper-multilabel-finetuning/checkpoint-10484/config.json\n",
      "Model weights saved in paper-multilabel-finetuning/checkpoint-10484/pytorch_model.bin\n",
      "tokenizer config file saved in paper-multilabel-finetuning/checkpoint-10484/tokenizer_config.json\n",
      "Special tokens file saved in paper-multilabel-finetuning/checkpoint-10484/special_tokens_map.json\n",
      "Deleting older checkpoint [paper-multilabel-finetuning/checkpoint-7863] due to args.save_total_limit\n",
      "The following columns in the evaluation set don't have a corresponding argument in `BertForSequenceClassification.forward` and have been ignored: __index_level_0__, text, categories. If __index_level_0__, text, categories are not expected by `BertForSequenceClassification.forward`,  you can safely ignore this message.\n",
      "***** Running Evaluation *****\n",
      "  Num examples = 49140\n",
      "  Batch size = 37\n",
      "Saving model checkpoint to paper-multilabel-finetuning/checkpoint-13105\n",
      "Configuration saved in paper-multilabel-finetuning/checkpoint-13105/config.json\n",
      "Model weights saved in paper-multilabel-finetuning/checkpoint-13105/pytorch_model.bin\n",
      "tokenizer config file saved in paper-multilabel-finetuning/checkpoint-13105/tokenizer_config.json\n",
      "Special tokens file saved in paper-multilabel-finetuning/checkpoint-13105/special_tokens_map.json\n",
      "Deleting older checkpoint [paper-multilabel-finetuning/checkpoint-10484] due to args.save_total_limit\n",
      "\n",
      "\n",
      "Training completed. Do not forget to share your model on huggingface.co/models =)\n",
      "\n",
      "\n",
      "Loading best model from paper-multilabel-finetuning/checkpoint-13105 (score: 0.5997945229744571).\n"
     ]
    },
    {
     "data": {
      "text/plain": [
       "TrainOutput(global_step=13105, training_loss=0.03672803733604457, metrics={'train_runtime': 23459.4237, 'train_samples_per_second': 41.894, 'train_steps_per_second': 0.559, 'total_flos': 6.47340318084096e+16, 'train_loss': 0.03672803733604457, 'epoch': 5.0})"
      ]
     },
     "execution_count": 18,
     "metadata": {},
     "output_type": "execute_result"
    }
   ],
   "source": [
    "trainer.train()"
   ]
  },
  {
   "cell_type": "code",
   "execution_count": 19,
   "metadata": {},
   "outputs": [
    {
     "name": "stderr",
     "output_type": "stream",
     "text": [
      "The following columns in the evaluation set don't have a corresponding argument in `BertForSequenceClassification.forward` and have been ignored: __index_level_0__, text, categories. If __index_level_0__, text, categories are not expected by `BertForSequenceClassification.forward`,  you can safely ignore this message.\n",
      "***** Running Evaluation *****\n",
      "  Num examples = 49140\n",
      "  Batch size = 37\n"
     ]
    },
    {
     "data": {
      "text/html": [
       "\n",
       "    <div>\n",
       "      \n",
       "      <progress value='1329' max='1329' style='width:300px; height:20px; vertical-align: middle;'></progress>\n",
       "      [1329/1329 05:57]\n",
       "    </div>\n",
       "    "
      ],
      "text/plain": [
       "<IPython.core.display.HTML object>"
      ]
     },
     "metadata": {},
     "output_type": "display_data"
    },
    {
     "data": {
      "text/plain": [
       "{'eval_loss': 0.023286648094654083,\n",
       " 'eval_f1': 0.5997945229744571,\n",
       " 'eval_roc_auc': 0.7396573760806298,\n",
       " 'eval_accuracy': 0.342999592999593,\n",
       " 'eval_runtime': 360.8244,\n",
       " 'eval_samples_per_second': 136.188,\n",
       " 'eval_steps_per_second': 3.683,\n",
       " 'epoch': 5.0}"
      ]
     },
     "execution_count": 19,
     "metadata": {},
     "output_type": "execute_result"
    }
   ],
   "source": [
    "eval = trainer.evaluate()\n",
    "eval"
   ]
  },
  {
   "cell_type": "code",
   "execution_count": 20,
   "metadata": {},
   "outputs": [
    {
     "name": "stdout",
     "output_type": "stream",
     "text": [
      "cond-mat.stat-mech,cond-mat.other\n"
     ]
    }
   ],
   "source": [
    "text = df['text'].iloc[5]\n",
    "categories = df['categories'].iloc[5]\n",
    "print(categories)\n",
    "\n",
    "encoding = tokenizer(text, return_tensors=\"pt\")\n",
    "encoding = {k: v.to(trainer.model.device) for k, v in encoding.items()}\n",
    "\n",
    "outputs = trainer.model(**encoding)\n",
    "logits = outputs.logits"
   ]
  },
  {
   "cell_type": "code",
   "execution_count": 21,
   "metadata": {},
   "outputs": [],
   "source": [
    "# apply sigmoid + threshold\n",
    "sigmoid = torch.nn.Sigmoid()\n",
    "probs = sigmoid(logits.squeeze().cpu())\n",
    "predictions = np.zeros(probs.shape)\n",
    "predictions[np.where(probs >= 0.45)] = 1"
   ]
  },
  {
   "cell_type": "code",
   "execution_count": 22,
   "metadata": {},
   "outputs": [
    {
     "name": "stdout",
     "output_type": "stream",
     "text": [
      "Suppression of growth by multiplicative white noise in a parametric\n",
      "  resonant system   The author studied the growth of the amplitude in a Mathieu-like equation\n",
      "with multiplicative white noise. The approximate value of the exponent at the\n",
      "extremum on parametric resonance regions was obtained theoretically by\n",
      "introducing the width of time interval, and the exponents were calculated\n",
      "numerically by solving the stochastic differential equations by a symplectic\n",
      "numerical method. The Mathieu-like equation contains a parameter $\\alpha$ that\n",
      "is determined by the intensity of noise and the strength of the coupling\n",
      "between the variable and the noise. The value of $\\alpha$ was restricted not to\n",
      "be negative without loss of generality. It was shown that the exponent\n",
      "decreases with $\\alpha$, reaches a minimum and increases after that. It was\n",
      "also found that the exponent as a function of $\\alpha$ has only one minimum at\n",
      "$\\alpha \\neq 0$ on parametric resonance regions of $\\alpha = 0$. This minimum\n",
      "value is obtained theoretically and numerically. The existence of the minimum\n",
      "at $\\alpha \\neq 0$ indicates the suppression of the growth by multiplicative\n",
      "white noise.\n",
      "\n",
      "[()]\n"
     ]
    }
   ],
   "source": [
    "print(text)\n",
    "print(mlb.inverse_transform(predictions.reshape(1, -1)))"
   ]
  },
  {
   "cell_type": "code",
   "execution_count": 23,
   "metadata": {},
   "outputs": [
    {
     "name": "stderr",
     "output_type": "stream",
     "text": [
      "Saving model checkpoint to ./checkpoint\n",
      "Configuration saved in ./checkpoint/config.json\n",
      "Model weights saved in ./checkpoint/pytorch_model.bin\n",
      "tokenizer config file saved in ./checkpoint/tokenizer_config.json\n",
      "Special tokens file saved in ./checkpoint/special_tokens_map.json\n"
     ]
    }
   ],
   "source": [
    "trainer.save_model(output_dir='./checkpoint')"
   ]
  },
  {
   "cell_type": "code",
   "execution_count": 24,
   "metadata": {},
   "outputs": [],
   "source": [
    "with open('./checkpoint/model_info.json', 'w') as f:\n",
    "    f.write(json.dumps(eval, indent=4))"
   ]
  },
  {
   "cell_type": "code",
   "execution_count": null,
   "metadata": {},
   "outputs": [],
   "source": []
  }
 ],
 "metadata": {
  "kernelspec": {
   "display_name": "Python 3.9.12 ('saturn')",
   "language": "python",
   "name": "python3"
  },
  "language_info": {
   "codemirror_mode": {
    "name": "ipython",
    "version": 3
   },
   "file_extension": ".py",
   "mimetype": "text/x-python",
   "name": "python",
   "nbconvert_exporter": "python",
   "pygments_lexer": "ipython3",
   "version": "3.9.12"
  },
  "orig_nbformat": 4,
  "vscode": {
   "interpreter": {
    "hash": "3c1f51487d8a055fea90b37fa3b43d5a61376641bd8f503a1f79d6e81aa7dcb1"
   }
  }
 },
 "nbformat": 4,
 "nbformat_minor": 2
}
