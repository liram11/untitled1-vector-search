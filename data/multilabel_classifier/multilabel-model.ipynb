{
 "cells": [
  {
   "cell_type": "code",
   "execution_count": 1,
   "metadata": {},
   "outputs": [],
   "source": [
    "%load_ext autoreload\n",
    "%autoreload 2"
   ]
  },
  {
   "cell_type": "code",
   "execution_count": 2,
   "metadata": {},
   "outputs": [
    {
     "name": "stdout",
     "output_type": "stream",
     "text": [
      "Obtaining file:///home/jovyan/workspace/untitled1-vector-search/backend (from -r requirements.txt (line 1))\n",
      "Requirement already satisfied: fastapi in /opt/conda/envs/saturn/lib/python3.9/site-packages (from arXiv-vecsim==0.0.1->-r requirements.txt (line 1)) (0.86.0)\n",
      "Requirement already satisfied: httpx in /opt/conda/envs/saturn/lib/python3.9/site-packages (from arXiv-vecsim==0.0.1->-r requirements.txt (line 1)) (0.23.0)\n",
      "Requirement already satisfied: requests in /opt/conda/envs/saturn/lib/python3.9/site-packages (from arXiv-vecsim==0.0.1->-r requirements.txt (line 1)) (2.28.1)\n",
      "Requirement already satisfied: uvicorn in /opt/conda/envs/saturn/lib/python3.9/site-packages (from arXiv-vecsim==0.0.1->-r requirements.txt (line 1)) (0.19.0)\n",
      "Requirement already satisfied: aiofiles in /opt/conda/envs/saturn/lib/python3.9/site-packages (from arXiv-vecsim==0.0.1->-r requirements.txt (line 1)) (22.1.0)\n",
      "Requirement already satisfied: redis-om in /opt/conda/envs/saturn/lib/python3.9/site-packages (from arXiv-vecsim==0.0.1->-r requirements.txt (line 1)) (0.1.0)\n",
      "Requirement already satisfied: pandas in /opt/conda/envs/saturn/lib/python3.9/site-packages (from arXiv-vecsim==0.0.1->-r requirements.txt (line 1)) (1.4.2)\n",
      "Requirement already satisfied: ipython in /opt/conda/envs/saturn/lib/python3.9/site-packages (from arXiv-vecsim==0.0.1->-r requirements.txt (line 1)) (8.6.0)\n",
      "Requirement already satisfied: numpy in /opt/conda/envs/saturn/lib/python3.9/site-packages (from arXiv-vecsim==0.0.1->-r requirements.txt (line 1)) (1.22.3)\n",
      "Requirement already satisfied: jinja2 in /opt/conda/envs/saturn/lib/python3.9/site-packages (from arXiv-vecsim==0.0.1->-r requirements.txt (line 1)) (3.1.2)\n",
      "Requirement already satisfied: passlib in /opt/conda/envs/saturn/lib/python3.9/site-packages (from arXiv-vecsim==0.0.1->-r requirements.txt (line 1)) (1.7.4)\n",
      "Requirement already satisfied: bcrypt in /opt/conda/envs/saturn/lib/python3.9/site-packages (from arXiv-vecsim==0.0.1->-r requirements.txt (line 1)) (4.0.1)\n",
      "Requirement already satisfied: python-multipart in /opt/conda/envs/saturn/lib/python3.9/site-packages (from arXiv-vecsim==0.0.1->-r requirements.txt (line 1)) (0.0.5)\n",
      "Requirement already satisfied: pyjwt in /opt/conda/envs/saturn/lib/python3.9/site-packages (from arXiv-vecsim==0.0.1->-r requirements.txt (line 1)) (2.4.0)\n",
      "Requirement already satisfied: sentence-transformers in /opt/conda/envs/saturn/lib/python3.9/site-packages (from arXiv-vecsim==0.0.1->-r requirements.txt (line 1)) (2.2.2)\n",
      "Requirement already satisfied: transformers==4.23.1 in /opt/conda/envs/saturn/lib/python3.9/site-packages (from arXiv-vecsim==0.0.1->-r requirements.txt (line 1)) (4.23.1)\n",
      "Requirement already satisfied: datasets==2.6.1 in /opt/conda/envs/saturn/lib/python3.9/site-packages (from arXiv-vecsim==0.0.1->-r requirements.txt (line 1)) (2.6.1)\n",
      "Requirement already satisfied: scikit-learn==1.1.1 in /opt/conda/envs/saturn/lib/python3.9/site-packages (from arXiv-vecsim==0.0.1->-r requirements.txt (line 1)) (1.1.1)\n",
      "Requirement already satisfied: torch==1.12.1 in /opt/conda/envs/saturn/lib/python3.9/site-packages (from arXiv-vecsim==0.0.1->-r requirements.txt (line 1)) (1.12.1)\n",
      "Requirement already satisfied: multiprocess in /opt/conda/envs/saturn/lib/python3.9/site-packages (from datasets==2.6.1->arXiv-vecsim==0.0.1->-r requirements.txt (line 1)) (0.70.13)\n",
      "Requirement already satisfied: aiohttp in /opt/conda/envs/saturn/lib/python3.9/site-packages (from datasets==2.6.1->arXiv-vecsim==0.0.1->-r requirements.txt (line 1)) (3.8.1)\n",
      "Requirement already satisfied: fsspec[http]>=2021.11.1 in /opt/conda/envs/saturn/lib/python3.9/site-packages (from datasets==2.6.1->arXiv-vecsim==0.0.1->-r requirements.txt (line 1)) (2022.2.0)\n",
      "Requirement already satisfied: responses<0.19 in /opt/conda/envs/saturn/lib/python3.9/site-packages (from datasets==2.6.1->arXiv-vecsim==0.0.1->-r requirements.txt (line 1)) (0.18.0)\n",
      "Requirement already satisfied: dill<0.3.6 in /opt/conda/envs/saturn/lib/python3.9/site-packages (from datasets==2.6.1->arXiv-vecsim==0.0.1->-r requirements.txt (line 1)) (0.3.5.1)\n",
      "Requirement already satisfied: pyyaml>=5.1 in /opt/conda/envs/saturn/lib/python3.9/site-packages (from datasets==2.6.1->arXiv-vecsim==0.0.1->-r requirements.txt (line 1)) (6.0)\n",
      "Requirement already satisfied: packaging in /opt/conda/envs/saturn/lib/python3.9/site-packages (from datasets==2.6.1->arXiv-vecsim==0.0.1->-r requirements.txt (line 1)) (21.3)\n",
      "Requirement already satisfied: xxhash in /opt/conda/envs/saturn/lib/python3.9/site-packages (from datasets==2.6.1->arXiv-vecsim==0.0.1->-r requirements.txt (line 1)) (3.1.0)\n",
      "Requirement already satisfied: huggingface-hub<1.0.0,>=0.2.0 in /opt/conda/envs/saturn/lib/python3.9/site-packages (from datasets==2.6.1->arXiv-vecsim==0.0.1->-r requirements.txt (line 1)) (0.10.1)\n",
      "Requirement already satisfied: tqdm>=4.62.1 in /opt/conda/envs/saturn/lib/python3.9/site-packages (from datasets==2.6.1->arXiv-vecsim==0.0.1->-r requirements.txt (line 1)) (4.64.1)\n",
      "Requirement already satisfied: pyarrow>=6.0.0 in /opt/conda/envs/saturn/lib/python3.9/site-packages (from datasets==2.6.1->arXiv-vecsim==0.0.1->-r requirements.txt (line 1)) (10.0.0)\n",
      "Requirement already satisfied: threadpoolctl>=2.0.0 in /opt/conda/envs/saturn/lib/python3.9/site-packages (from scikit-learn==1.1.1->arXiv-vecsim==0.0.1->-r requirements.txt (line 1)) (3.1.0)\n",
      "Requirement already satisfied: joblib>=1.0.0 in /opt/conda/envs/saturn/lib/python3.9/site-packages (from scikit-learn==1.1.1->arXiv-vecsim==0.0.1->-r requirements.txt (line 1)) (1.2.0)\n",
      "Requirement already satisfied: scipy>=1.3.2 in /opt/conda/envs/saturn/lib/python3.9/site-packages (from scikit-learn==1.1.1->arXiv-vecsim==0.0.1->-r requirements.txt (line 1)) (1.9.3)\n",
      "Requirement already satisfied: typing-extensions in /opt/conda/envs/saturn/lib/python3.9/site-packages (from torch==1.12.1->arXiv-vecsim==0.0.1->-r requirements.txt (line 1)) (4.4.0)\n",
      "Requirement already satisfied: filelock in /opt/conda/envs/saturn/lib/python3.9/site-packages (from transformers==4.23.1->arXiv-vecsim==0.0.1->-r requirements.txt (line 1)) (3.8.0)\n",
      "Requirement already satisfied: regex!=2019.12.17 in /opt/conda/envs/saturn/lib/python3.9/site-packages (from transformers==4.23.1->arXiv-vecsim==0.0.1->-r requirements.txt (line 1)) (2022.9.13)\n",
      "Requirement already satisfied: tokenizers!=0.11.3,<0.14,>=0.11.1 in /opt/conda/envs/saturn/lib/python3.9/site-packages (from transformers==4.23.1->arXiv-vecsim==0.0.1->-r requirements.txt (line 1)) (0.13.1)\n",
      "Requirement already satisfied: pyparsing!=3.0.5,>=2.0.2 in /opt/conda/envs/saturn/lib/python3.9/site-packages (from packaging->datasets==2.6.1->arXiv-vecsim==0.0.1->-r requirements.txt (line 1)) (3.0.9)\n",
      "Requirement already satisfied: charset-normalizer<3,>=2 in /opt/conda/envs/saturn/lib/python3.9/site-packages (from requests->arXiv-vecsim==0.0.1->-r requirements.txt (line 1)) (2.1.1)\n",
      "Requirement already satisfied: urllib3<1.27,>=1.21.1 in /opt/conda/envs/saturn/lib/python3.9/site-packages (from requests->arXiv-vecsim==0.0.1->-r requirements.txt (line 1)) (1.26.12)\n",
      "Requirement already satisfied: certifi>=2017.4.17 in /opt/conda/envs/saturn/lib/python3.9/site-packages (from requests->arXiv-vecsim==0.0.1->-r requirements.txt (line 1)) (2022.9.24)\n",
      "Requirement already satisfied: idna<4,>=2.5 in /opt/conda/envs/saturn/lib/python3.9/site-packages (from requests->arXiv-vecsim==0.0.1->-r requirements.txt (line 1)) (3.4)\n",
      "Requirement already satisfied: async-timeout<5.0,>=4.0.0a3 in /opt/conda/envs/saturn/lib/python3.9/site-packages (from aiohttp->datasets==2.6.1->arXiv-vecsim==0.0.1->-r requirements.txt (line 1)) (4.0.2)\n",
      "Requirement already satisfied: attrs>=17.3.0 in /opt/conda/envs/saturn/lib/python3.9/site-packages (from aiohttp->datasets==2.6.1->arXiv-vecsim==0.0.1->-r requirements.txt (line 1)) (22.1.0)\n",
      "Requirement already satisfied: multidict<7.0,>=4.5 in /opt/conda/envs/saturn/lib/python3.9/site-packages (from aiohttp->datasets==2.6.1->arXiv-vecsim==0.0.1->-r requirements.txt (line 1)) (5.2.0)\n",
      "Requirement already satisfied: frozenlist>=1.1.1 in /opt/conda/envs/saturn/lib/python3.9/site-packages (from aiohttp->datasets==2.6.1->arXiv-vecsim==0.0.1->-r requirements.txt (line 1)) (1.2.0)\n",
      "Requirement already satisfied: aiosignal>=1.1.2 in /opt/conda/envs/saturn/lib/python3.9/site-packages (from aiohttp->datasets==2.6.1->arXiv-vecsim==0.0.1->-r requirements.txt (line 1)) (1.2.0)\n",
      "Requirement already satisfied: yarl<2.0,>=1.0 in /opt/conda/envs/saturn/lib/python3.9/site-packages (from aiohttp->datasets==2.6.1->arXiv-vecsim==0.0.1->-r requirements.txt (line 1)) (1.6.3)\n",
      "Requirement already satisfied: starlette==0.20.4 in /opt/conda/envs/saturn/lib/python3.9/site-packages (from fastapi->arXiv-vecsim==0.0.1->-r requirements.txt (line 1)) (0.20.4)\n",
      "Requirement already satisfied: pydantic!=1.7,!=1.7.1,!=1.7.2,!=1.7.3,!=1.8,!=1.8.1,<2.0.0,>=1.6.2 in /opt/conda/envs/saturn/lib/python3.9/site-packages (from fastapi->arXiv-vecsim==0.0.1->-r requirements.txt (line 1)) (1.10.2)\n",
      "Requirement already satisfied: anyio<5,>=3.4.0 in /opt/conda/envs/saturn/lib/python3.9/site-packages (from starlette==0.20.4->fastapi->arXiv-vecsim==0.0.1->-r requirements.txt (line 1)) (3.6.2)\n",
      "Requirement already satisfied: sniffio>=1.1 in /opt/conda/envs/saturn/lib/python3.9/site-packages (from anyio<5,>=3.4.0->starlette==0.20.4->fastapi->arXiv-vecsim==0.0.1->-r requirements.txt (line 1)) (1.3.0)\n",
      "Requirement already satisfied: httpcore<0.16.0,>=0.15.0 in /opt/conda/envs/saturn/lib/python3.9/site-packages (from httpx->arXiv-vecsim==0.0.1->-r requirements.txt (line 1)) (0.15.0)\n",
      "Requirement already satisfied: rfc3986[idna2008]<2,>=1.3 in /opt/conda/envs/saturn/lib/python3.9/site-packages (from httpx->arXiv-vecsim==0.0.1->-r requirements.txt (line 1)) (1.5.0)\n",
      "Requirement already satisfied: h11<0.13,>=0.11 in /opt/conda/envs/saturn/lib/python3.9/site-packages (from httpcore<0.16.0,>=0.15.0->httpx->arXiv-vecsim==0.0.1->-r requirements.txt (line 1)) (0.12.0)\n",
      "Requirement already satisfied: pygments>=2.4.0 in /opt/conda/envs/saturn/lib/python3.9/site-packages (from ipython->arXiv-vecsim==0.0.1->-r requirements.txt (line 1)) (2.13.0)\n",
      "Requirement already satisfied: pickleshare in /opt/conda/envs/saturn/lib/python3.9/site-packages (from ipython->arXiv-vecsim==0.0.1->-r requirements.txt (line 1)) (0.7.5)\n",
      "Requirement already satisfied: prompt-toolkit<3.1.0,>3.0.1 in /opt/conda/envs/saturn/lib/python3.9/site-packages (from ipython->arXiv-vecsim==0.0.1->-r requirements.txt (line 1)) (3.0.31)\n",
      "Requirement already satisfied: traitlets>=5 in /opt/conda/envs/saturn/lib/python3.9/site-packages (from ipython->arXiv-vecsim==0.0.1->-r requirements.txt (line 1)) (5.5.0)\n",
      "Requirement already satisfied: stack-data in /opt/conda/envs/saturn/lib/python3.9/site-packages (from ipython->arXiv-vecsim==0.0.1->-r requirements.txt (line 1)) (0.6.0)\n",
      "Requirement already satisfied: backcall in /opt/conda/envs/saturn/lib/python3.9/site-packages (from ipython->arXiv-vecsim==0.0.1->-r requirements.txt (line 1)) (0.2.0)\n",
      "Requirement already satisfied: pexpect>4.3 in /opt/conda/envs/saturn/lib/python3.9/site-packages (from ipython->arXiv-vecsim==0.0.1->-r requirements.txt (line 1)) (4.8.0)\n",
      "Requirement already satisfied: decorator in /opt/conda/envs/saturn/lib/python3.9/site-packages (from ipython->arXiv-vecsim==0.0.1->-r requirements.txt (line 1)) (5.1.1)\n",
      "Requirement already satisfied: jedi>=0.16 in /opt/conda/envs/saturn/lib/python3.9/site-packages (from ipython->arXiv-vecsim==0.0.1->-r requirements.txt (line 1)) (0.18.1)\n",
      "Requirement already satisfied: matplotlib-inline in /opt/conda/envs/saturn/lib/python3.9/site-packages (from ipython->arXiv-vecsim==0.0.1->-r requirements.txt (line 1)) (0.1.6)\n",
      "Requirement already satisfied: parso<0.9.0,>=0.8.0 in /opt/conda/envs/saturn/lib/python3.9/site-packages (from jedi>=0.16->ipython->arXiv-vecsim==0.0.1->-r requirements.txt (line 1)) (0.8.3)\n",
      "Requirement already satisfied: ptyprocess>=0.5 in /opt/conda/envs/saturn/lib/python3.9/site-packages (from pexpect>4.3->ipython->arXiv-vecsim==0.0.1->-r requirements.txt (line 1)) (0.7.0)\n",
      "Requirement already satisfied: wcwidth in /opt/conda/envs/saturn/lib/python3.9/site-packages (from prompt-toolkit<3.1.0,>3.0.1->ipython->arXiv-vecsim==0.0.1->-r requirements.txt (line 1)) (0.2.5)\n",
      "Requirement already satisfied: MarkupSafe>=2.0 in /opt/conda/envs/saturn/lib/python3.9/site-packages (from jinja2->arXiv-vecsim==0.0.1->-r requirements.txt (line 1)) (2.1.1)\n",
      "Requirement already satisfied: pytz>=2020.1 in /opt/conda/envs/saturn/lib/python3.9/site-packages (from pandas->arXiv-vecsim==0.0.1->-r requirements.txt (line 1)) (2022.5)\n",
      "Requirement already satisfied: python-dateutil>=2.8.1 in /opt/conda/envs/saturn/lib/python3.9/site-packages (from pandas->arXiv-vecsim==0.0.1->-r requirements.txt (line 1)) (2.8.2)\n",
      "Requirement already satisfied: six>=1.5 in /opt/conda/envs/saturn/lib/python3.9/site-packages (from python-dateutil>=2.8.1->pandas->arXiv-vecsim==0.0.1->-r requirements.txt (line 1)) (1.16.0)\n",
      "Requirement already satisfied: redis<5.0.0,>=3.5.3 in /opt/conda/envs/saturn/lib/python3.9/site-packages (from redis-om->arXiv-vecsim==0.0.1->-r requirements.txt (line 1)) (4.3.4)\n",
      "Requirement already satisfied: aioredis<3.0.0,>=2.0.0 in /opt/conda/envs/saturn/lib/python3.9/site-packages (from redis-om->arXiv-vecsim==0.0.1->-r requirements.txt (line 1)) (2.0.1)\n",
      "Requirement already satisfied: cleo==1.0.0a5 in /opt/conda/envs/saturn/lib/python3.9/site-packages (from redis-om->arXiv-vecsim==0.0.1->-r requirements.txt (line 1)) (1.0.0a5)\n",
      "Requirement already satisfied: more-itertools<9.0.0,>=8.14.0 in /opt/conda/envs/saturn/lib/python3.9/site-packages (from redis-om->arXiv-vecsim==0.0.1->-r requirements.txt (line 1)) (8.14.0)\n",
      "Requirement already satisfied: hiredis<3.0.0,>=2.0.0 in /opt/conda/envs/saturn/lib/python3.9/site-packages (from redis-om->arXiv-vecsim==0.0.1->-r requirements.txt (line 1)) (2.0.0)\n",
      "Requirement already satisfied: python-ulid<2.0.0,>=1.0.3 in /opt/conda/envs/saturn/lib/python3.9/site-packages (from redis-om->arXiv-vecsim==0.0.1->-r requirements.txt (line 1)) (1.1.0)\n",
      "Requirement already satisfied: types-redis<5.0.0,>=3.5.9 in /opt/conda/envs/saturn/lib/python3.9/site-packages (from redis-om->arXiv-vecsim==0.0.1->-r requirements.txt (line 1)) (4.3.21.3)\n",
      "Requirement already satisfied: pptree<4.0,>=3.1 in /opt/conda/envs/saturn/lib/python3.9/site-packages (from redis-om->arXiv-vecsim==0.0.1->-r requirements.txt (line 1)) (3.1)\n",
      "Requirement already satisfied: click<9.0.0,>=8.0.1 in /opt/conda/envs/saturn/lib/python3.9/site-packages (from redis-om->arXiv-vecsim==0.0.1->-r requirements.txt (line 1)) (8.1.3)\n",
      "Requirement already satisfied: crashtest<0.4.0,>=0.3.1 in /opt/conda/envs/saturn/lib/python3.9/site-packages (from cleo==1.0.0a5->redis-om->arXiv-vecsim==0.0.1->-r requirements.txt (line 1)) (0.3.1)\n",
      "Requirement already satisfied: pylev<2.0.0,>=1.3.0 in /opt/conda/envs/saturn/lib/python3.9/site-packages (from cleo==1.0.0a5->redis-om->arXiv-vecsim==0.0.1->-r requirements.txt (line 1)) (1.4.0)\n",
      "Requirement already satisfied: deprecated>=1.2.3 in /opt/conda/envs/saturn/lib/python3.9/site-packages (from redis<5.0.0,>=3.5.3->redis-om->arXiv-vecsim==0.0.1->-r requirements.txt (line 1)) (1.2.13)\n",
      "Requirement already satisfied: wrapt<2,>=1.10 in /opt/conda/envs/saturn/lib/python3.9/site-packages (from deprecated>=1.2.3->redis<5.0.0,>=3.5.3->redis-om->arXiv-vecsim==0.0.1->-r requirements.txt (line 1)) (1.13.3)\n",
      "Requirement already satisfied: torchvision in /opt/conda/envs/saturn/lib/python3.9/site-packages (from sentence-transformers->arXiv-vecsim==0.0.1->-r requirements.txt (line 1)) (0.13.1)\n",
      "Requirement already satisfied: sentencepiece in /opt/conda/envs/saturn/lib/python3.9/site-packages (from sentence-transformers->arXiv-vecsim==0.0.1->-r requirements.txt (line 1)) (0.1.97)\n",
      "Requirement already satisfied: nltk in /opt/conda/envs/saturn/lib/python3.9/site-packages (from sentence-transformers->arXiv-vecsim==0.0.1->-r requirements.txt (line 1)) (3.7)\n",
      "Requirement already satisfied: asttokens>=2.1.0 in /opt/conda/envs/saturn/lib/python3.9/site-packages (from stack-data->ipython->arXiv-vecsim==0.0.1->-r requirements.txt (line 1)) (2.1.0)\n",
      "Requirement already satisfied: pure-eval in /opt/conda/envs/saturn/lib/python3.9/site-packages (from stack-data->ipython->arXiv-vecsim==0.0.1->-r requirements.txt (line 1)) (0.2.2)\n",
      "Requirement already satisfied: executing>=1.2.0 in /opt/conda/envs/saturn/lib/python3.9/site-packages (from stack-data->ipython->arXiv-vecsim==0.0.1->-r requirements.txt (line 1)) (1.2.0)\n",
      "Requirement already satisfied: pillow!=8.3.*,>=5.3.0 in /opt/conda/envs/saturn/lib/python3.9/site-packages (from torchvision->sentence-transformers->arXiv-vecsim==0.0.1->-r requirements.txt (line 1)) (9.3.0)\n",
      "Installing collected packages: arXiv-vecsim\n",
      "  Attempting uninstall: arXiv-vecsim\n",
      "    Found existing installation: arXiv-vecsim 0.0.1\n",
      "    Uninstalling arXiv-vecsim-0.0.1:\n",
      "      Successfully uninstalled arXiv-vecsim-0.0.1\n",
      "  Running setup.py develop for arXiv-vecsim\n",
      "Successfully installed arXiv-vecsim-0.0.1\n",
      "Note: you may need to restart the kernel to use updated packages.\n"
     ]
    }
   ],
   "source": [
    "%pip install -q -r requirements.txt"
   ]
  },
  {
   "cell_type": "code",
   "execution_count": 3,
   "metadata": {},
   "outputs": [],
   "source": [
    "import json\n",
    "import pandas as pd\n",
    "import os\n",
    "import re\n",
    "import string\n",
    "from transformers import BertForSequenceClassification\n",
    "from sklearn.preprocessing import MultiLabelBinarizer\n",
    "from transformers import AutoTokenizer\n",
    "from sklearn.metrics import f1_score, roc_auc_score, accuracy_score\n",
    "from transformers import EvalPrediction\n",
    "import torch\n",
    "from transformers import TrainingArguments, Trainer\n",
    "from datasets import Dataset\n",
    "import numpy as np\n",
    "from sklearn.model_selection import train_test_split\n",
    "\n",
    "from vecsim_app.categories import CATEGORIES\n",
    "from vecsim_app.data_utils import papers\n",
    "\n",
    "DATA_PATH = \"/home/jovyan/arxiv/arxiv-metadata-oai-snapshot.json\"\n",
    "YEAR_CUTOFF = 2012\n",
    "YEAR_PATTERN = r\"(19|20[0-9]{2})\""
   ]
  },
  {
   "cell_type": "code",
   "execution_count": 4,
   "metadata": {},
   "outputs": [
    {
     "data": {
      "text/plain": [
       "408773"
      ]
     },
     "execution_count": 4,
     "metadata": {},
     "output_type": "execute_result"
    }
   ],
   "source": [
    "df = pd.DataFrame(papers(data_path=DATA_PATH, year_cutoff=YEAR_CUTOFF, year_pattern=YEAR_PATTERN))\n",
    "len(df)"
   ]
  },
  {
   "cell_type": "code",
   "execution_count": 5,
   "metadata": {},
   "outputs": [
    {
     "data": {
      "text/html": [
       "<div>\n",
       "<style scoped>\n",
       "    .dataframe tbody tr th:only-of-type {\n",
       "        vertical-align: middle;\n",
       "    }\n",
       "\n",
       "    .dataframe tbody tr th {\n",
       "        vertical-align: top;\n",
       "    }\n",
       "\n",
       "    .dataframe thead th {\n",
       "        text-align: right;\n",
       "    }\n",
       "</style>\n",
       "<table border=\"1\" class=\"dataframe\">\n",
       "  <thead>\n",
       "    <tr style=\"text-align: right;\">\n",
       "      <th></th>\n",
       "      <th>id</th>\n",
       "      <th>title</th>\n",
       "      <th>year</th>\n",
       "      <th>authors</th>\n",
       "      <th>categories</th>\n",
       "      <th>abstract</th>\n",
       "    </tr>\n",
       "  </thead>\n",
       "  <tbody>\n",
       "    <tr>\n",
       "      <th>0</th>\n",
       "      <td>0704.0304</td>\n",
       "      <td>The World as Evolving Information</td>\n",
       "      <td>2012</td>\n",
       "      <td>Carlos Gershenson</td>\n",
       "      <td>cs.IT,cs.AI,math.IT,q-bio.PE</td>\n",
       "      <td>This paper discusses the benefits of describ...</td>\n",
       "    </tr>\n",
       "    <tr>\n",
       "      <th>1</th>\n",
       "      <td>0704.2744</td>\n",
       "      <td>Nahm transform and parabolic minimal Laplace t...</td>\n",
       "      <td>2012</td>\n",
       "      <td>Szilard Szabo</td>\n",
       "      <td>math.AG</td>\n",
       "      <td>We prove that Nahm transform for integrable ...</td>\n",
       "    </tr>\n",
       "    <tr>\n",
       "      <th>2</th>\n",
       "      <td>0704.2768</td>\n",
       "      <td>Heat Equations and the Weighted $\\bar\\partial$...</td>\n",
       "      <td>2012</td>\n",
       "      <td>Andrew Raich</td>\n",
       "      <td>math.AP,math.CV</td>\n",
       "      <td>The purpose of this article is to establish ...</td>\n",
       "    </tr>\n",
       "  </tbody>\n",
       "</table>\n",
       "</div>"
      ],
      "text/plain": [
       "          id                                              title  year  \\\n",
       "0  0704.0304                  The World as Evolving Information  2012   \n",
       "1  0704.2744  Nahm transform and parabolic minimal Laplace t...  2012   \n",
       "2  0704.2768  Heat Equations and the Weighted $\\bar\\partial$...  2012   \n",
       "\n",
       "             authors                    categories  \\\n",
       "0  Carlos Gershenson  cs.IT,cs.AI,math.IT,q-bio.PE   \n",
       "1      Szilard Szabo                       math.AG   \n",
       "2       Andrew Raich               math.AP,math.CV   \n",
       "\n",
       "                                            abstract  \n",
       "0    This paper discusses the benefits of describ...  \n",
       "1    We prove that Nahm transform for integrable ...  \n",
       "2    The purpose of this article is to establish ...  "
      ]
     },
     "execution_count": 5,
     "metadata": {},
     "output_type": "execute_result"
    }
   ],
   "source": [
    "df.head(3)"
   ]
  },
  {
   "cell_type": "code",
   "execution_count": 6,
   "metadata": {},
   "outputs": [],
   "source": [
    "df['text'] = df['title'] + ' ' + df['abstract']\n",
    "# df['categories'] = df['categories'].apply(lambda x: x.split(','))"
   ]
  },
  {
   "cell_type": "code",
   "execution_count": 7,
   "metadata": {},
   "outputs": [
    {
     "data": {
      "text/plain": [
       "'cs.IT,cs.AI,math.IT,q-bio.PE'"
      ]
     },
     "execution_count": 7,
     "metadata": {},
     "output_type": "execute_result"
    }
   ],
   "source": [
    "df.iloc[0].categories"
   ]
  },
  {
   "cell_type": "code",
   "execution_count": 8,
   "metadata": {},
   "outputs": [],
   "source": [
    "# Split into train and test\n",
    "df_train, df_test = train_test_split(df, test_size=0.2)"
   ]
  },
  {
   "cell_type": "code",
   "execution_count": 9,
   "metadata": {},
   "outputs": [],
   "source": [
    "def get_tokenizer(tokenizer_model):\n",
    "    def tokenize_function(examples):\n",
    "        return tokenizer(examples[\"text\"], padding=\"max_length\", truncation=True)\n",
    "\n",
    "    tokenizer = AutoTokenizer.from_pretrained(tokenizer_model)\n",
    "    return tokenize_function, tokenizer\n",
    "\n",
    "tokenize_function, tokenizer = get_tokenizer('bert-base-uncased')"
   ]
  },
  {
   "cell_type": "code",
   "execution_count": 10,
   "metadata": {},
   "outputs": [
    {
     "data": {
      "text/html": [
       "<style>#sk-container-id-1 {color: black;background-color: white;}#sk-container-id-1 pre{padding: 0;}#sk-container-id-1 div.sk-toggleable {background-color: white;}#sk-container-id-1 label.sk-toggleable__label {cursor: pointer;display: block;width: 100%;margin-bottom: 0;padding: 0.3em;box-sizing: border-box;text-align: center;}#sk-container-id-1 label.sk-toggleable__label-arrow:before {content: \"▸\";float: left;margin-right: 0.25em;color: #696969;}#sk-container-id-1 label.sk-toggleable__label-arrow:hover:before {color: black;}#sk-container-id-1 div.sk-estimator:hover label.sk-toggleable__label-arrow:before {color: black;}#sk-container-id-1 div.sk-toggleable__content {max-height: 0;max-width: 0;overflow: hidden;text-align: left;background-color: #f0f8ff;}#sk-container-id-1 div.sk-toggleable__content pre {margin: 0.2em;color: black;border-radius: 0.25em;background-color: #f0f8ff;}#sk-container-id-1 input.sk-toggleable__control:checked~div.sk-toggleable__content {max-height: 200px;max-width: 100%;overflow: auto;}#sk-container-id-1 input.sk-toggleable__control:checked~label.sk-toggleable__label-arrow:before {content: \"▾\";}#sk-container-id-1 div.sk-estimator input.sk-toggleable__control:checked~label.sk-toggleable__label {background-color: #d4ebff;}#sk-container-id-1 div.sk-label input.sk-toggleable__control:checked~label.sk-toggleable__label {background-color: #d4ebff;}#sk-container-id-1 input.sk-hidden--visually {border: 0;clip: rect(1px 1px 1px 1px);clip: rect(1px, 1px, 1px, 1px);height: 1px;margin: -1px;overflow: hidden;padding: 0;position: absolute;width: 1px;}#sk-container-id-1 div.sk-estimator {font-family: monospace;background-color: #f0f8ff;border: 1px dotted black;border-radius: 0.25em;box-sizing: border-box;margin-bottom: 0.5em;}#sk-container-id-1 div.sk-estimator:hover {background-color: #d4ebff;}#sk-container-id-1 div.sk-parallel-item::after {content: \"\";width: 100%;border-bottom: 1px solid gray;flex-grow: 1;}#sk-container-id-1 div.sk-label:hover label.sk-toggleable__label {background-color: #d4ebff;}#sk-container-id-1 div.sk-serial::before {content: \"\";position: absolute;border-left: 1px solid gray;box-sizing: border-box;top: 0;bottom: 0;left: 50%;z-index: 0;}#sk-container-id-1 div.sk-serial {display: flex;flex-direction: column;align-items: center;background-color: white;padding-right: 0.2em;padding-left: 0.2em;position: relative;}#sk-container-id-1 div.sk-item {position: relative;z-index: 1;}#sk-container-id-1 div.sk-parallel {display: flex;align-items: stretch;justify-content: center;background-color: white;position: relative;}#sk-container-id-1 div.sk-item::before, #sk-container-id-1 div.sk-parallel-item::before {content: \"\";position: absolute;border-left: 1px solid gray;box-sizing: border-box;top: 0;bottom: 0;left: 50%;z-index: -1;}#sk-container-id-1 div.sk-parallel-item {display: flex;flex-direction: column;z-index: 1;position: relative;background-color: white;}#sk-container-id-1 div.sk-parallel-item:first-child::after {align-self: flex-end;width: 50%;}#sk-container-id-1 div.sk-parallel-item:last-child::after {align-self: flex-start;width: 50%;}#sk-container-id-1 div.sk-parallel-item:only-child::after {width: 0;}#sk-container-id-1 div.sk-dashed-wrapped {border: 1px dashed gray;margin: 0 0.4em 0.5em 0.4em;box-sizing: border-box;padding-bottom: 0.4em;background-color: white;}#sk-container-id-1 div.sk-label label {font-family: monospace;font-weight: bold;display: inline-block;line-height: 1.2em;}#sk-container-id-1 div.sk-label-container {text-align: center;}#sk-container-id-1 div.sk-container {/* jupyter's `normalize.less` sets `[hidden] { display: none; }` but bootstrap.min.css set `[hidden] { display: none !important; }` so we also need the `!important` here to be able to override the default hidden behavior on the sphinx rendered scikit-learn.org. See: https://github.com/scikit-learn/scikit-learn/issues/21755 */display: inline-block !important;position: relative;}#sk-container-id-1 div.sk-text-repr-fallback {display: none;}</style><div id=\"sk-container-id-1\" class=\"sk-top-container\"><div class=\"sk-text-repr-fallback\"><pre>MultiLabelBinarizer()</pre><b>In a Jupyter environment, please rerun this cell to show the HTML representation or trust the notebook. <br />On GitHub, the HTML representation is unable to render, please try loading this page with nbviewer.org.</b></div><div class=\"sk-container\" hidden><div class=\"sk-item\"><div class=\"sk-estimator sk-toggleable\"><input class=\"sk-toggleable__control sk-hidden--visually\" id=\"sk-estimator-id-1\" type=\"checkbox\" checked><label for=\"sk-estimator-id-1\" class=\"sk-toggleable__label sk-toggleable__label-arrow\">MultiLabelBinarizer</label><div class=\"sk-toggleable__content\"><pre>MultiLabelBinarizer()</pre></div></div></div></div></div>"
      ],
      "text/plain": [
       "MultiLabelBinarizer()"
      ]
     },
     "execution_count": 10,
     "metadata": {},
     "output_type": "execute_result"
    }
   ],
   "source": [
    "mlb = MultiLabelBinarizer()\n",
    "mlb.fit(df_train['categories'])"
   ]
  },
  {
   "cell_type": "code",
   "execution_count": 11,
   "metadata": {},
   "outputs": [],
   "source": [
    "def preprocess_data(examples):\n",
    "  # take a batch of texts\n",
    "  text = examples[\"text\"]\n",
    "\n",
    "  # encode them\n",
    "  encoding = tokenizer(text, padding=\"max_length\", truncation=True, max_length=128)\n",
    "\n",
    "  encoded_categories = mlb.transform(examples['categories']).astype(float)\n",
    "\n",
    "  encoding[\"labels\"] = encoded_categories\n",
    "\n",
    "  return encoding"
   ]
  },
  {
   "cell_type": "code",
   "execution_count": 12,
   "metadata": {},
   "outputs": [
    {
     "name": "stderr",
     "output_type": "stream",
     "text": [
      "Some weights of the model checkpoint at bert-base-uncased were not used when initializing BertForSequenceClassification: ['cls.predictions.transform.LayerNorm.bias', 'cls.predictions.transform.dense.weight', 'cls.seq_relationship.bias', 'cls.predictions.bias', 'cls.predictions.decoder.weight', 'cls.seq_relationship.weight', 'cls.predictions.transform.dense.bias', 'cls.predictions.transform.LayerNorm.weight']\n",
      "- This IS expected if you are initializing BertForSequenceClassification from the checkpoint of a model trained on another task or with another architecture (e.g. initializing a BertForSequenceClassification model from a BertForPreTraining model).\n",
      "- This IS NOT expected if you are initializing BertForSequenceClassification from the checkpoint of a model that you expect to be exactly identical (initializing a BertForSequenceClassification model from a BertForSequenceClassification model).\n",
      "Some weights of BertForSequenceClassification were not initialized from the model checkpoint at bert-base-uncased and are newly initialized: ['classifier.bias', 'classifier.weight']\n",
      "You should probably TRAIN this model on a down-stream task to be able to use it for predictions and inference.\n"
     ]
    }
   ],
   "source": [
    "model = BertForSequenceClassification.from_pretrained(\n",
    "    \"bert-base-uncased\", \n",
    "    num_labels=len(mlb.classes_), \n",
    "    problem_type=\"multi_label_classification\"\n",
    ")"
   ]
  },
  {
   "cell_type": "code",
   "execution_count": 13,
   "metadata": {},
   "outputs": [
    {
     "data": {
      "application/vnd.jupyter.widget-view+json": {
       "model_id": "7c00c69e9f994c70ad109f8685d00f37",
       "version_major": 2,
       "version_minor": 0
      },
      "text/plain": [
       "  0%|          | 0/1 [00:00<?, ?ba/s]"
      ]
     },
     "metadata": {},
     "output_type": "display_data"
    },
    {
     "data": {
      "application/vnd.jupyter.widget-view+json": {
       "model_id": "384ea93d3cbd4998b213544b9c22b4ac",
       "version_major": 2,
       "version_minor": 0
      },
      "text/plain": [
       "  0%|          | 0/1 [00:00<?, ?ba/s]"
      ]
     },
     "metadata": {},
     "output_type": "display_data"
    }
   ],
   "source": [
    "df_train_hf = Dataset.from_pandas(df_train[['text', 'categories']].head(100))\n",
    "tokenized_train = df_train_hf.map(preprocess_data, batched=True)\n",
    "\n",
    "df_test_hf = Dataset.from_pandas(df_test[['text', 'categories']].head(100))\n",
    "tokenized_test = df_test_hf.map(preprocess_data, batched=True)"
   ]
  },
  {
   "cell_type": "code",
   "execution_count": 14,
   "metadata": {},
   "outputs": [
    {
     "name": "stdout",
     "output_type": "stream",
     "text": [
      "Reversed [(',', '.', 'A', 'D', 'G', 'N', 'P', 'a', 'h', 'm', 't')]\n",
      "Original categories math.NA,math.AP,math.DG\n"
     ]
    }
   ],
   "source": [
    "# Debugging - get inverse transform\n",
    "\n",
    "print(\"Reversed\", mlb.inverse_transform(np.asarray(tokenized_test[0]['labels']).reshape(1, -1)))\n",
    "print(\"Original categories\", tokenized_test[0]['categories'])"
   ]
  },
  {
   "cell_type": "code",
   "execution_count": 29,
   "metadata": {},
   "outputs": [
    {
     "name": "stderr",
     "output_type": "stream",
     "text": [
      "PyTorch: setting up devices\n",
      "The default value for the training argument `--report_to` will change in v5 (from all installed integrations to none). In v5, you will need to use `--report_to all` to get the same behavior as now. You should start updating your code and make this info disappear :-).\n"
     ]
    }
   ],
   "source": [
    "# Adaptation: https://github.com/NielsRogge/Transformers-Tutorials/blob/master/BERT/Fine_tuning_BERT_(and_friends)_for_multi_label_text_classification.ipynb \n",
    "# \n",
    "batch_size = 16\n",
    "metric_name = \"f1\"\n",
    "\n",
    "args = TrainingArguments(\n",
    "    f\"paper-multilabel-finetuning\",\n",
    "    evaluation_strategy=\"epoch\",\n",
    "    save_strategy=\"epoch\",\n",
    "    save_total_limit=1,\n",
    "    learning_rate=2e-5,\n",
    "    per_device_train_batch_size=batch_size,\n",
    "    per_device_eval_batch_size=batch_size,\n",
    "    num_train_epochs=5,\n",
    "    weight_decay=0.01,\n",
    "    load_best_model_at_end=True,\n",
    "    metric_for_best_model=metric_name,\n",
    ")\n",
    "\n",
    "\n",
    "# source: https://jesusleal.io/2021/04/21/Longformer-multilabel-classification/\n",
    "def multi_label_metrics(predictions, labels, threshold=0.5):\n",
    "    # first, apply sigmoid on predictions which are of shape (batch_size, num_labels)\n",
    "    sigmoid = torch.nn.Sigmoid()\n",
    "    probs = sigmoid(torch.Tensor(predictions))\n",
    "    # next, use threshold to turn them into integer predictions\n",
    "    y_pred = np.zeros(probs.shape)\n",
    "    y_pred[np.where(probs >= threshold)] = 1\n",
    "    # finally, compute metrics\n",
    "    y_true = labels\n",
    "    f1_micro_average = f1_score(y_true=y_true, y_pred=y_pred, average='micro')\n",
    "    roc_auc = roc_auc_score(y_true, y_pred, average = 'micro')\n",
    "    accuracy = accuracy_score(y_true, y_pred)\n",
    "    # return as dictionary\n",
    "    metrics = {'f1': f1_micro_average,\n",
    "               'roc_auc': roc_auc,\n",
    "               'accuracy': accuracy}\n",
    "    return metrics\n",
    "\n",
    "def compute_metrics(p: EvalPrediction):\n",
    "    preds = p.predictions[0] if isinstance(p.predictions, \n",
    "            tuple) else p.predictions\n",
    "    result = multi_label_metrics(\n",
    "        predictions=preds, \n",
    "        labels=p.label_ids)\n",
    "    return result"
   ]
  },
  {
   "cell_type": "code",
   "execution_count": 30,
   "metadata": {},
   "outputs": [],
   "source": [
    "trainer = Trainer(\n",
    "    model,\n",
    "    args,\n",
    "    train_dataset=tokenized_train,\n",
    "    eval_dataset=tokenized_test,\n",
    "    tokenizer=tokenizer,\n",
    "    compute_metrics=compute_metrics\n",
    ")"
   ]
  },
  {
   "cell_type": "code",
   "execution_count": 31,
   "metadata": {},
   "outputs": [
    {
     "name": "stderr",
     "output_type": "stream",
     "text": [
      "The following columns in the training set don't have a corresponding argument in `BertForSequenceClassification.forward` and have been ignored: text, categories, __index_level_0__. If text, categories, __index_level_0__ are not expected by `BertForSequenceClassification.forward`,  you can safely ignore this message.\n",
      "/srv/conda/envs/saturn/lib/python3.9/site-packages/transformers/optimization.py:306: FutureWarning: This implementation of AdamW is deprecated and will be removed in a future version. Use the PyTorch implementation torch.optim.AdamW instead, or set `no_deprecation_warning=True` to disable this warning\n",
      "  warnings.warn(\n",
      "***** Running training *****\n",
      "  Num examples = 100\n",
      "  Num Epochs = 5\n",
      "  Instantaneous batch size per device = 16\n",
      "  Total train batch size (w. parallel, distributed & accumulation) = 16\n",
      "  Gradient Accumulation steps = 1\n",
      "  Total optimization steps = 35\n"
     ]
    },
    {
     "data": {
      "text/html": [
       "\n",
       "    <div>\n",
       "      \n",
       "      <progress value='35' max='35' style='width:300px; height:20px; vertical-align: middle;'></progress>\n",
       "      [35/35 00:45, Epoch 5/5]\n",
       "    </div>\n",
       "    <table border=\"1\" class=\"dataframe\">\n",
       "  <thead>\n",
       " <tr style=\"text-align: left;\">\n",
       "      <th>Epoch</th>\n",
       "      <th>Training Loss</th>\n",
       "      <th>Validation Loss</th>\n",
       "      <th>F1</th>\n",
       "      <th>Roc Auc</th>\n",
       "      <th>Accuracy</th>\n",
       "    </tr>\n",
       "  </thead>\n",
       "  <tbody>\n",
       "    <tr>\n",
       "      <td>1</td>\n",
       "      <td>No log</td>\n",
       "      <td>0.454203</td>\n",
       "      <td>0.611085</td>\n",
       "      <td>0.750968</td>\n",
       "      <td>0.000000</td>\n",
       "    </tr>\n",
       "    <tr>\n",
       "      <td>2</td>\n",
       "      <td>No log</td>\n",
       "      <td>0.435303</td>\n",
       "      <td>0.596564</td>\n",
       "      <td>0.732773</td>\n",
       "      <td>0.000000</td>\n",
       "    </tr>\n",
       "    <tr>\n",
       "      <td>3</td>\n",
       "      <td>No log</td>\n",
       "      <td>0.429763</td>\n",
       "      <td>0.592554</td>\n",
       "      <td>0.729754</td>\n",
       "      <td>0.000000</td>\n",
       "    </tr>\n",
       "    <tr>\n",
       "      <td>4</td>\n",
       "      <td>No log</td>\n",
       "      <td>0.429101</td>\n",
       "      <td>0.620622</td>\n",
       "      <td>0.752786</td>\n",
       "      <td>0.000000</td>\n",
       "    </tr>\n",
       "    <tr>\n",
       "      <td>5</td>\n",
       "      <td>No log</td>\n",
       "      <td>0.427151</td>\n",
       "      <td>0.607813</td>\n",
       "      <td>0.741955</td>\n",
       "      <td>0.000000</td>\n",
       "    </tr>\n",
       "  </tbody>\n",
       "</table><p>"
      ],
      "text/plain": [
       "<IPython.core.display.HTML object>"
      ]
     },
     "metadata": {},
     "output_type": "display_data"
    },
    {
     "name": "stderr",
     "output_type": "stream",
     "text": [
      "The following columns in the evaluation set don't have a corresponding argument in `BertForSequenceClassification.forward` and have been ignored: text, categories, __index_level_0__. If text, categories, __index_level_0__ are not expected by `BertForSequenceClassification.forward`,  you can safely ignore this message.\n",
      "***** Running Evaluation *****\n",
      "  Num examples = 100\n",
      "  Batch size = 16\n",
      "Saving model checkpoint to paper-multilabel-finetuning/checkpoint-7\n",
      "Configuration saved in paper-multilabel-finetuning/checkpoint-7/config.json\n",
      "Model weights saved in paper-multilabel-finetuning/checkpoint-7/pytorch_model.bin\n",
      "tokenizer config file saved in paper-multilabel-finetuning/checkpoint-7/tokenizer_config.json\n",
      "Special tokens file saved in paper-multilabel-finetuning/checkpoint-7/special_tokens_map.json\n",
      "The following columns in the evaluation set don't have a corresponding argument in `BertForSequenceClassification.forward` and have been ignored: text, categories, __index_level_0__. If text, categories, __index_level_0__ are not expected by `BertForSequenceClassification.forward`,  you can safely ignore this message.\n",
      "***** Running Evaluation *****\n",
      "  Num examples = 100\n",
      "  Batch size = 16\n",
      "Saving model checkpoint to paper-multilabel-finetuning/checkpoint-14\n",
      "Configuration saved in paper-multilabel-finetuning/checkpoint-14/config.json\n",
      "Model weights saved in paper-multilabel-finetuning/checkpoint-14/pytorch_model.bin\n",
      "tokenizer config file saved in paper-multilabel-finetuning/checkpoint-14/tokenizer_config.json\n",
      "Special tokens file saved in paper-multilabel-finetuning/checkpoint-14/special_tokens_map.json\n",
      "The following columns in the evaluation set don't have a corresponding argument in `BertForSequenceClassification.forward` and have been ignored: text, categories, __index_level_0__. If text, categories, __index_level_0__ are not expected by `BertForSequenceClassification.forward`,  you can safely ignore this message.\n",
      "***** Running Evaluation *****\n",
      "  Num examples = 100\n",
      "  Batch size = 16\n",
      "Saving model checkpoint to paper-multilabel-finetuning/checkpoint-21\n",
      "Configuration saved in paper-multilabel-finetuning/checkpoint-21/config.json\n",
      "Model weights saved in paper-multilabel-finetuning/checkpoint-21/pytorch_model.bin\n",
      "tokenizer config file saved in paper-multilabel-finetuning/checkpoint-21/tokenizer_config.json\n",
      "Special tokens file saved in paper-multilabel-finetuning/checkpoint-21/special_tokens_map.json\n",
      "The following columns in the evaluation set don't have a corresponding argument in `BertForSequenceClassification.forward` and have been ignored: text, categories, __index_level_0__. If text, categories, __index_level_0__ are not expected by `BertForSequenceClassification.forward`,  you can safely ignore this message.\n",
      "***** Running Evaluation *****\n",
      "  Num examples = 100\n",
      "  Batch size = 16\n",
      "Saving model checkpoint to paper-multilabel-finetuning/checkpoint-28\n",
      "Configuration saved in paper-multilabel-finetuning/checkpoint-28/config.json\n",
      "Model weights saved in paper-multilabel-finetuning/checkpoint-28/pytorch_model.bin\n",
      "tokenizer config file saved in paper-multilabel-finetuning/checkpoint-28/tokenizer_config.json\n",
      "Special tokens file saved in paper-multilabel-finetuning/checkpoint-28/special_tokens_map.json\n",
      "The following columns in the evaluation set don't have a corresponding argument in `BertForSequenceClassification.forward` and have been ignored: text, categories, __index_level_0__. If text, categories, __index_level_0__ are not expected by `BertForSequenceClassification.forward`,  you can safely ignore this message.\n",
      "***** Running Evaluation *****\n",
      "  Num examples = 100\n",
      "  Batch size = 16\n",
      "Saving model checkpoint to paper-multilabel-finetuning/checkpoint-35\n",
      "Configuration saved in paper-multilabel-finetuning/checkpoint-35/config.json\n",
      "Model weights saved in paper-multilabel-finetuning/checkpoint-35/pytorch_model.bin\n",
      "tokenizer config file saved in paper-multilabel-finetuning/checkpoint-35/tokenizer_config.json\n",
      "Special tokens file saved in paper-multilabel-finetuning/checkpoint-35/special_tokens_map.json\n",
      "\n",
      "\n",
      "Training completed. Do not forget to share your model on huggingface.co/models =)\n",
      "\n",
      "\n",
      "Loading best model from paper-multilabel-finetuning/checkpoint-28 (score: 0.6206216082881105).\n"
     ]
    },
    {
     "data": {
      "text/plain": [
       "TrainOutput(global_step=35, training_loss=0.43726703098842074, metrics={'train_runtime': 45.6102, 'train_samples_per_second': 10.962, 'train_steps_per_second': 0.767, 'total_flos': 32901874944000.0, 'train_loss': 0.43726703098842074, 'epoch': 5.0})"
      ]
     },
     "execution_count": 31,
     "metadata": {},
     "output_type": "execute_result"
    }
   ],
   "source": [
    "trainer.train()"
   ]
  },
  {
   "cell_type": "code",
   "execution_count": 34,
   "metadata": {},
   "outputs": [
    {
     "name": "stderr",
     "output_type": "stream",
     "text": [
      "The following columns in the evaluation set don't have a corresponding argument in `BertForSequenceClassification.forward` and have been ignored: text, categories, __index_level_0__. If text, categories, __index_level_0__ are not expected by `BertForSequenceClassification.forward`,  you can safely ignore this message.\n",
      "***** Running Evaluation *****\n",
      "  Num examples = 100\n",
      "  Batch size = 16\n"
     ]
    },
    {
     "data": {
      "text/plain": [
       "{'eval_loss': 0.42910125851631165,\n",
       " 'eval_f1': 0.6206216082881105,\n",
       " 'eval_roc_auc': 0.7527857944524611,\n",
       " 'eval_accuracy': 0.0,\n",
       " 'eval_runtime': 0.7334,\n",
       " 'eval_samples_per_second': 136.352,\n",
       " 'eval_steps_per_second': 9.545,\n",
       " 'epoch': 5.0}"
      ]
     },
     "execution_count": 34,
     "metadata": {},
     "output_type": "execute_result"
    }
   ],
   "source": [
    "eval = trainer.evaluate()\n",
    "eval"
   ]
  },
  {
   "cell_type": "code",
   "execution_count": 35,
   "metadata": {},
   "outputs": [],
   "source": [
    "text = df['text'].iloc[5]\n",
    "\n",
    "encoding = tokenizer(text, return_tensors=\"pt\")\n",
    "encoding = {k: v.to(trainer.model.device) for k, v in encoding.items()}\n",
    "\n",
    "outputs = trainer.model(**encoding)\n",
    "logits = outputs.logits"
   ]
  },
  {
   "cell_type": "code",
   "execution_count": 36,
   "metadata": {},
   "outputs": [],
   "source": [
    "# apply sigmoid + threshold\n",
    "sigmoid = torch.nn.Sigmoid()\n",
    "probs = sigmoid(logits.squeeze().cpu())\n",
    "predictions = np.zeros(probs.shape)\n",
    "predictions[np.where(probs >= 0.1)] = 1"
   ]
  },
  {
   "cell_type": "code",
   "execution_count": 37,
   "metadata": {},
   "outputs": [
    {
     "name": "stdout",
     "output_type": "stream",
     "text": [
      "Suppression of growth by multiplicative white noise in a parametric\n",
      "  resonant system   The author studied the growth of the amplitude in a Mathieu-like equation\n",
      "with multiplicative white noise. The approximate value of the exponent at the\n",
      "extremum on parametric resonance regions was obtained theoretically by\n",
      "introducing the width of time interval, and the exponents were calculated\n",
      "numerically by solving the stochastic differential equations by a symplectic\n",
      "numerical method. The Mathieu-like equation contains a parameter $\\alpha$ that\n",
      "is determined by the intensity of noise and the strength of the coupling\n",
      "between the variable and the noise. The value of $\\alpha$ was restricted not to\n",
      "be negative without loss of generality. It was shown that the exponent\n",
      "decreases with $\\alpha$, reaches a minimum and increases after that. It was\n",
      "also found that the exponent as a function of $\\alpha$ has only one minimum at\n",
      "$\\alpha \\neq 0$ on parametric resonance regions of $\\alpha = 0$. This minimum\n",
      "value is obtained theoretically and numerically. The existence of the minimum\n",
      "at $\\alpha \\neq 0$ indicates the suppression of the growth by multiplicative\n",
      "white noise.\n",
      "\n",
      "[(',', '-', '.', 'A', 'B', 'C', 'D', 'E', 'F', 'G', 'H', 'I', 'K', 'L', 'M', 'N', 'O', 'P', 'Q', 'R', 'S', 'T', 'V', 'Y', 'a', 'b', 'c', 'd', 'e', 'f', 'g', 'h', 'i', 'l', 'm', 'n', 'o', 'p', 'q', 'r', 's', 't', 'u', 'v', 'x', 'y')]\n"
     ]
    }
   ],
   "source": [
    "print(text)\n",
    "print(mlb.inverse_transform(predictions.reshape(1, -1)))"
   ]
  },
  {
   "cell_type": "code",
   "execution_count": 41,
   "metadata": {},
   "outputs": [],
   "source": [
    "import pickle\n",
    "\n",
    "\n",
    "with open('mlb.pkl', 'wb') as handle:\n",
    "    pickle.dump(mlb, handle, protocol=pickle.HIGHEST_PROTOCOL)"
   ]
  },
  {
   "cell_type": "code",
   "execution_count": 39,
   "metadata": {},
   "outputs": [],
   "source": [
    "with open('mlb_metrics.json', 'w') as f:\n",
    "    f.write(json.dumps(eval, indent=4))"
   ]
  },
  {
   "cell_type": "code",
   "execution_count": 40,
   "metadata": {},
   "outputs": [
    {
     "name": "stderr",
     "output_type": "stream",
     "text": [
      "Saving model checkpoint to ./checkpoint\n",
      "Configuration saved in ./checkpoint/config.json\n",
      "Model weights saved in ./checkpoint/pytorch_model.bin\n",
      "tokenizer config file saved in ./checkpoint/tokenizer_config.json\n",
      "Special tokens file saved in ./checkpoint/special_tokens_map.json\n"
     ]
    }
   ],
   "source": [
    "trainer.save_model(output_dir='./checkpoint')"
   ]
  },
  {
   "cell_type": "code",
   "execution_count": null,
   "metadata": {},
   "outputs": [],
   "source": []
  }
 ],
 "metadata": {
  "kernelspec": {
   "display_name": "Python 3.9.12 ('saturn')",
   "language": "python",
   "name": "python3"
  },
  "language_info": {
   "codemirror_mode": {
    "name": "ipython",
    "version": 3
   },
   "file_extension": ".py",
   "mimetype": "text/x-python",
   "name": "python",
   "nbconvert_exporter": "python",
   "pygments_lexer": "ipython3",
   "version": "3.9.12"
  },
  "orig_nbformat": 4,
  "vscode": {
   "interpreter": {
    "hash": "3c1f51487d8a055fea90b37fa3b43d5a61376641bd8f503a1f79d6e81aa7dcb1"
   }
  }
 },
 "nbformat": 4,
 "nbformat_minor": 2
}
