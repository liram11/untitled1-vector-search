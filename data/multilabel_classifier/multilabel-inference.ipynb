{
 "cells": [
  {
   "cell_type": "code",
   "execution_count": 1,
   "metadata": {},
   "outputs": [],
   "source": [
    "%load_ext autoreload\n",
    "%autoreload 2\n",
    "\n",
    "from transformers import BertForSequenceClassification\n",
    "from sklearn.preprocessing import MultiLabelBinarizer\n",
    "from transformers import AutoTokenizer\n",
    "import pickle\n",
    "    \n",
    "from vecsim_app.multilabel_classifier.inference import predict_categories, load_models"
   ]
  },
  {
   "cell_type": "code",
   "execution_count": 2,
   "metadata": {},
   "outputs": [
    {
     "ename": "EOFError",
     "evalue": "Ran out of input",
     "output_type": "error",
     "traceback": [
      "\u001b[0;31m---------------------------------------------------------------------------\u001b[0m",
      "\u001b[0;31mEOFError\u001b[0m                                  Traceback (most recent call last)",
      "Cell \u001b[0;32mIn [2], line 7\u001b[0m\n\u001b[1;32m      1\u001b[0m query \u001b[39m=\u001b[39m \u001b[39m\"\"\"\u001b[39m\n\u001b[1;32m      2\u001b[0m \u001b[39mThe World as Evolving Information   This paper discusses the benefits of describing the world as information,\u001b[39m\u001b[39m\\n\u001b[39;00m\u001b[39mespecially in the study of the evolution of life and cognition. Traditional\u001b[39m\u001b[39m\\n\u001b[39;00m\u001b[39mstudies encounter problems because it is difficult to describe life and\u001b[39m\u001b[39m\\n\u001b[39;00m\u001b[39mcognition in terms of matter and energy, since their laws are valid only at the\u001b[39m\u001b[39m\\n\u001b[39;00m\u001b[39mphysical scale. However, if matter and energy, as well as life and cognition,\u001b[39m\u001b[39m\\n\u001b[39;00m\u001b[39mare described in terms of information, evolution can be described consistently\u001b[39m\u001b[39m\\n\u001b[39;00m\u001b[39mas information becoming more complex.\u001b[39m\u001b[39m\\n\u001b[39;00m\u001b[39m  The paper presents eight tentative laws of information, valid at multiple\u001b[39m\u001b[39m\\n\u001b[39;00m\u001b[39mscales, which are generalizations of Darwinian, cybernetic, thermodynamic,\u001b[39m\u001b[39m\\n\u001b[39;00m\u001b[39mpsychological, philosophical, and complexity principles. These are further used\u001b[39m\u001b[39m\\n\u001b[39;00m\u001b[39mto discuss the notions of life, cognition and their evolution.\u001b[39m\u001b[39m\\n\u001b[39;00m\n\u001b[1;32m      3\u001b[0m \u001b[39m\"\"\"\u001b[39m\u001b[39m.\u001b[39mlower()\n\u001b[1;32m      5\u001b[0m queries \u001b[39m=\u001b[39m [query, query]\n\u001b[0;32m----> 7\u001b[0m model, tokenizer, mlb \u001b[39m=\u001b[39m load_models(\u001b[39m'\u001b[39;49m\u001b[39m./checkpoint/\u001b[39;49m\u001b[39m'\u001b[39;49m, \u001b[39m'\u001b[39;49m\u001b[39mmlb.pkl\u001b[39;49m\u001b[39m'\u001b[39;49m)\n\u001b[1;32m      9\u001b[0m categories \u001b[39m=\u001b[39m predict_categories(queries, model, tokenizer, mlb)\n",
      "File \u001b[0;32m~/workspace/untitled1-vector-search/backend/vecsim_app/multilabel_classifier/inference.py:45\u001b[0m, in \u001b[0;36mload_models\u001b[0;34m(multilabel_model_path, multilabel_binarizer_path)\u001b[0m\n\u001b[1;32m     42\u001b[0m tokenizer \u001b[39m=\u001b[39m AutoTokenizer\u001b[39m.\u001b[39mfrom_pretrained(multilabel_model_path)\n\u001b[1;32m     44\u001b[0m \u001b[39mwith\u001b[39;00m \u001b[39mopen\u001b[39m(multilabel_binarizer_path, \u001b[39m\"\u001b[39m\u001b[39mrb\u001b[39m\u001b[39m\"\u001b[39m) \u001b[39mas\u001b[39;00m handle:\n\u001b[0;32m---> 45\u001b[0m     mlb \u001b[39m=\u001b[39m pickle\u001b[39m.\u001b[39;49mload(handle)\n\u001b[1;32m     47\u001b[0m \u001b[39mreturn\u001b[39;00m model, tokenizer, mlb\n",
      "\u001b[0;31mEOFError\u001b[0m: Ran out of input"
     ]
    }
   ],
   "source": [
    "\n",
    "query = \"\"\"\n",
    "The World as Evolving Information   This paper discusses the benefits of describing the world as information,\\nespecially in the study of the evolution of life and cognition. Traditional\\nstudies encounter problems because it is difficult to describe life and\\ncognition in terms of matter and energy, since their laws are valid only at the\\nphysical scale. However, if matter and energy, as well as life and cognition,\\nare described in terms of information, evolution can be described consistently\\nas information becoming more complex.\\n  The paper presents eight tentative laws of information, valid at multiple\\nscales, which are generalizations of Darwinian, cybernetic, thermodynamic,\\npsychological, philosophical, and complexity principles. These are further used\\nto discuss the notions of life, cognition and their evolution.\\n\n",
    "\"\"\".lower()\n",
    "\n",
    "queries = [query, query]\n",
    "\n",
    "model, tokenizer, mlb = load_models('./checkpoint/', 'mlb.pkl')\n",
    "\n",
    "categories = predict_categories(queries, model, tokenizer, mlb)"
   ]
  },
  {
   "cell_type": "code",
   "execution_count": 21,
   "metadata": {},
   "outputs": [
    {
     "data": {
      "text/plain": [
       "['Artificial Intelligence', 'Computers and Society']"
      ]
     },
     "execution_count": 21,
     "metadata": {},
     "output_type": "execute_result"
    }
   ],
   "source": [
    "categories"
   ]
  },
  {
   "cell_type": "code",
   "execution_count": null,
   "metadata": {},
   "outputs": [],
   "source": []
  }
 ],
 "metadata": {
  "kernelspec": {
   "display_name": "Python 3.9.12 ('saturn')",
   "language": "python",
   "name": "python3"
  },
  "language_info": {
   "codemirror_mode": {
    "name": "ipython",
    "version": 3
   },
   "file_extension": ".py",
   "mimetype": "text/x-python",
   "name": "python",
   "nbconvert_exporter": "python",
   "pygments_lexer": "ipython3",
   "version": "3.9.12"
  },
  "orig_nbformat": 4,
  "vscode": {
   "interpreter": {
    "hash": "3c1f51487d8a055fea90b37fa3b43d5a61376641bd8f503a1f79d6e81aa7dcb1"
   }
  }
 },
 "nbformat": 4,
 "nbformat_minor": 2
}
