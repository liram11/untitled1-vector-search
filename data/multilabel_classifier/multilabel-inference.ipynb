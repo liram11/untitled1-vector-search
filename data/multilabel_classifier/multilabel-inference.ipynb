{
 "cells": [
  {
   "cell_type": "code",
   "execution_count": 1,
   "metadata": {},
   "outputs": [
    {
     "name": "stdout",
     "output_type": "stream",
     "text": [
      "Defaulting to user installation because normal site-packages is not writeable\n",
      "Obtaining file:///home/paulo/untitled1-vector-search/backend\n",
      "  Preparing metadata (setup.py) ... \u001b[?25ldone\n",
      "\u001b[?25hRequirement already satisfied: fastapi in /home/paulo/.local/lib/python3.9/site-packages (from arXiv-vecsim==0.0.1) (0.83.0)\n",
      "Requirement already satisfied: httpx in /home/paulo/.local/lib/python3.9/site-packages (from arXiv-vecsim==0.0.1) (0.23.0)\n",
      "Requirement already satisfied: requests in /home/paulo/.local/lib/python3.9/site-packages (from arXiv-vecsim==0.0.1) (2.27.1)\n",
      "Requirement already satisfied: uvicorn in /home/paulo/.local/lib/python3.9/site-packages (from arXiv-vecsim==0.0.1) (0.18.3)\n",
      "Requirement already satisfied: aiofiles in /home/paulo/.local/lib/python3.9/site-packages (from arXiv-vecsim==0.0.1) (22.1.0)\n",
      "Requirement already satisfied: redis-om in /home/paulo/.local/lib/python3.9/site-packages (from arXiv-vecsim==0.0.1) (0.1.0)\n",
      "Requirement already satisfied: pandas in /home/paulo/.local/lib/python3.9/site-packages (from arXiv-vecsim==0.0.1) (1.4.2)\n",
      "Requirement already satisfied: ipython in /home/paulo/.local/lib/python3.9/site-packages (from arXiv-vecsim==0.0.1) (8.3.0)\n",
      "Requirement already satisfied: numpy in /home/paulo/.local/lib/python3.9/site-packages (from arXiv-vecsim==0.0.1) (1.22.3)\n",
      "Requirement already satisfied: jinja2 in /home/paulo/.local/lib/python3.9/site-packages (from arXiv-vecsim==0.0.1) (3.1.2)\n",
      "Requirement already satisfied: passlib in /home/paulo/.local/lib/python3.9/site-packages (from arXiv-vecsim==0.0.1) (1.7.4)\n",
      "Requirement already satisfied: bcrypt in /home/paulo/.local/lib/python3.9/site-packages (from arXiv-vecsim==0.0.1) (4.0.1)\n",
      "Requirement already satisfied: python-multipart in /home/paulo/.local/lib/python3.9/site-packages (from arXiv-vecsim==0.0.1) (0.0.5)\n",
      "Requirement already satisfied: pyjwt in /home/paulo/.local/lib/python3.9/site-packages (from arXiv-vecsim==0.0.1) (2.3.0)\n",
      "Requirement already satisfied: sentence-transformers in /home/paulo/.local/lib/python3.9/site-packages (from arXiv-vecsim==0.0.1) (2.2.2)\n",
      "Requirement already satisfied: transformers==4.23.1 in /home/paulo/.local/lib/python3.9/site-packages (from arXiv-vecsim==0.0.1) (4.23.1)\n",
      "Requirement already satisfied: datasets==2.6.1 in /home/paulo/.local/lib/python3.9/site-packages (from arXiv-vecsim==0.0.1) (2.6.1)\n",
      "Requirement already satisfied: scikit-learn==1.1.1 in /home/paulo/.local/lib/python3.9/site-packages (from arXiv-vecsim==0.0.1) (1.1.1)\n",
      "Requirement already satisfied: torch==1.12.1 in /home/paulo/.local/lib/python3.9/site-packages (from arXiv-vecsim==0.0.1) (1.12.1)\n",
      "Requirement already satisfied: huggingface-hub<1.0.0,>=0.2.0 in /home/paulo/.local/lib/python3.9/site-packages (from datasets==2.6.1->arXiv-vecsim==0.0.1) (0.10.1)\n",
      "Requirement already satisfied: dill<0.3.6 in /home/paulo/.local/lib/python3.9/site-packages (from datasets==2.6.1->arXiv-vecsim==0.0.1) (0.3.5.1)\n",
      "Requirement already satisfied: xxhash in /home/paulo/.local/lib/python3.9/site-packages (from datasets==2.6.1->arXiv-vecsim==0.0.1) (3.0.0)\n",
      "Requirement already satisfied: tqdm>=4.62.1 in /home/paulo/.local/lib/python3.9/site-packages (from datasets==2.6.1->arXiv-vecsim==0.0.1) (4.64.0)\n",
      "Requirement already satisfied: pyarrow>=6.0.0 in /home/paulo/.local/lib/python3.9/site-packages (from datasets==2.6.1->arXiv-vecsim==0.0.1) (6.0.1)\n",
      "Requirement already satisfied: responses<0.19 in /home/paulo/.local/lib/python3.9/site-packages (from datasets==2.6.1->arXiv-vecsim==0.0.1) (0.18.0)\n",
      "Requirement already satisfied: fsspec[http]>=2021.11.1 in /home/paulo/.local/lib/python3.9/site-packages (from datasets==2.6.1->arXiv-vecsim==0.0.1) (2022.7.1)\n",
      "Requirement already satisfied: multiprocess in /home/paulo/.local/lib/python3.9/site-packages (from datasets==2.6.1->arXiv-vecsim==0.0.1) (0.70.13)\n",
      "Requirement already satisfied: packaging in /home/paulo/.local/lib/python3.9/site-packages (from datasets==2.6.1->arXiv-vecsim==0.0.1) (21.3)\n",
      "Requirement already satisfied: aiohttp in /home/paulo/.local/lib/python3.9/site-packages (from datasets==2.6.1->arXiv-vecsim==0.0.1) (3.8.1)\n",
      "Requirement already satisfied: pyyaml>=5.1 in /home/paulo/.local/lib/python3.9/site-packages (from datasets==2.6.1->arXiv-vecsim==0.0.1) (5.4.1)\n",
      "Requirement already satisfied: scipy>=1.3.2 in /home/paulo/.local/lib/python3.9/site-packages (from scikit-learn==1.1.1->arXiv-vecsim==0.0.1) (1.8.0)\n",
      "Requirement already satisfied: joblib>=1.0.0 in /home/paulo/.local/lib/python3.9/site-packages (from scikit-learn==1.1.1->arXiv-vecsim==0.0.1) (1.1.0)\n",
      "Requirement already satisfied: threadpoolctl>=2.0.0 in /home/paulo/.local/lib/python3.9/site-packages (from scikit-learn==1.1.1->arXiv-vecsim==0.0.1) (3.1.0)\n",
      "Requirement already satisfied: typing-extensions in /home/paulo/.local/lib/python3.9/site-packages (from torch==1.12.1->arXiv-vecsim==0.0.1) (4.4.0)\n",
      "Requirement already satisfied: regex!=2019.12.17 in /home/paulo/.local/lib/python3.9/site-packages (from transformers==4.23.1->arXiv-vecsim==0.0.1) (2021.9.30)\n",
      "Requirement already satisfied: tokenizers!=0.11.3,<0.14,>=0.11.1 in /home/paulo/.local/lib/python3.9/site-packages (from transformers==4.23.1->arXiv-vecsim==0.0.1) (0.12.1)\n",
      "Requirement already satisfied: filelock in /home/paulo/.local/lib/python3.9/site-packages (from transformers==4.23.1->arXiv-vecsim==0.0.1) (3.6.0)\n",
      "Requirement already satisfied: certifi>=2017.4.17 in /usr/local/lib/python3.9/dist-packages (from requests->arXiv-vecsim==0.0.1) (2022.6.15.2)\n",
      "Requirement already satisfied: urllib3<1.27,>=1.21.1 in /home/paulo/.local/lib/python3.9/site-packages (from requests->arXiv-vecsim==0.0.1) (1.26.9)\n",
      "Requirement already satisfied: charset-normalizer~=2.0.0 in /home/paulo/.local/lib/python3.9/site-packages (from requests->arXiv-vecsim==0.0.1) (2.0.12)\n",
      "Requirement already satisfied: idna<4,>=2.5 in /home/paulo/.local/lib/python3.9/site-packages (from requests->arXiv-vecsim==0.0.1) (2.10)\n",
      "Requirement already satisfied: starlette==0.19.1 in /home/paulo/.local/lib/python3.9/site-packages (from fastapi->arXiv-vecsim==0.0.1) (0.19.1)\n",
      "Requirement already satisfied: pydantic!=1.7,!=1.7.1,!=1.7.2,!=1.7.3,!=1.8,!=1.8.1,<2.0.0,>=1.6.2 in /home/paulo/.local/lib/python3.9/site-packages (from fastapi->arXiv-vecsim==0.0.1) (1.10.2)\n",
      "Requirement already satisfied: anyio<5,>=3.4.0 in /home/paulo/.local/lib/python3.9/site-packages (from starlette==0.19.1->fastapi->arXiv-vecsim==0.0.1) (3.5.0)\n",
      "Requirement already satisfied: httpcore<0.16.0,>=0.15.0 in /home/paulo/.local/lib/python3.9/site-packages (from httpx->arXiv-vecsim==0.0.1) (0.15.0)\n",
      "Requirement already satisfied: sniffio in /home/paulo/.local/lib/python3.9/site-packages (from httpx->arXiv-vecsim==0.0.1) (1.2.0)\n",
      "Requirement already satisfied: rfc3986[idna2008]<2,>=1.3 in /home/paulo/.local/lib/python3.9/site-packages (from httpx->arXiv-vecsim==0.0.1) (1.5.0)\n",
      "Requirement already satisfied: matplotlib-inline in /home/paulo/.local/lib/python3.9/site-packages (from ipython->arXiv-vecsim==0.0.1) (0.1.3)\n",
      "Requirement already satisfied: pexpect>4.3 in /home/paulo/.local/lib/python3.9/site-packages (from ipython->arXiv-vecsim==0.0.1) (4.8.0)\n",
      "Requirement already satisfied: decorator in /home/paulo/.local/lib/python3.9/site-packages (from ipython->arXiv-vecsim==0.0.1) (5.1.1)\n",
      "Requirement already satisfied: pickleshare in /home/paulo/.local/lib/python3.9/site-packages (from ipython->arXiv-vecsim==0.0.1) (0.7.5)\n",
      "Requirement already satisfied: backcall in /home/paulo/.local/lib/python3.9/site-packages (from ipython->arXiv-vecsim==0.0.1) (0.2.0)\n",
      "Requirement already satisfied: jedi>=0.16 in /home/paulo/.local/lib/python3.9/site-packages (from ipython->arXiv-vecsim==0.0.1) (0.18.1)\n",
      "Requirement already satisfied: setuptools>=18.5 in /home/paulo/.local/lib/python3.9/site-packages (from ipython->arXiv-vecsim==0.0.1) (62.1.0)\n",
      "Requirement already satisfied: pygments>=2.4.0 in /home/paulo/.local/lib/python3.9/site-packages (from ipython->arXiv-vecsim==0.0.1) (2.12.0)\n",
      "Requirement already satisfied: traitlets>=5 in /home/paulo/.local/lib/python3.9/site-packages (from ipython->arXiv-vecsim==0.0.1) (5.1.1)\n",
      "Requirement already satisfied: prompt-toolkit!=3.0.0,!=3.0.1,<3.1.0,>=2.0.0 in /home/paulo/.local/lib/python3.9/site-packages (from ipython->arXiv-vecsim==0.0.1) (3.0.29)\n",
      "Requirement already satisfied: stack-data in /home/paulo/.local/lib/python3.9/site-packages (from ipython->arXiv-vecsim==0.0.1) (0.2.0)\n",
      "Requirement already satisfied: MarkupSafe>=2.0 in /home/paulo/.local/lib/python3.9/site-packages (from jinja2->arXiv-vecsim==0.0.1) (2.0.1)\n",
      "Requirement already satisfied: python-dateutil>=2.8.1 in /home/paulo/.local/lib/python3.9/site-packages (from pandas->arXiv-vecsim==0.0.1) (2.8.2)\n",
      "Requirement already satisfied: pytz>=2020.1 in /home/paulo/.local/lib/python3.9/site-packages (from pandas->arXiv-vecsim==0.0.1) (2022.1)\n",
      "Requirement already satisfied: six>=1.4.0 in /home/paulo/.local/lib/python3.9/site-packages (from python-multipart->arXiv-vecsim==0.0.1) (1.16.0)\n",
      "Requirement already satisfied: python-ulid<2.0.0,>=1.0.3 in /home/paulo/.local/lib/python3.9/site-packages (from redis-om->arXiv-vecsim==0.0.1) (1.1.0)\n",
      "Requirement already satisfied: pptree<4.0,>=3.1 in /home/paulo/.local/lib/python3.9/site-packages (from redis-om->arXiv-vecsim==0.0.1) (3.1)\n",
      "Requirement already satisfied: click<9.0.0,>=8.0.1 in /home/paulo/.local/lib/python3.9/site-packages (from redis-om->arXiv-vecsim==0.0.1) (8.0.4)\n",
      "Requirement already satisfied: cleo==1.0.0a5 in /home/paulo/.local/lib/python3.9/site-packages (from redis-om->arXiv-vecsim==0.0.1) (1.0.0a5)\n",
      "Requirement already satisfied: hiredis<3.0.0,>=2.0.0 in /home/paulo/.local/lib/python3.9/site-packages (from redis-om->arXiv-vecsim==0.0.1) (2.0.0)\n",
      "Requirement already satisfied: redis<5.0.0,>=3.5.3 in /home/paulo/.local/lib/python3.9/site-packages (from redis-om->arXiv-vecsim==0.0.1) (4.3.4)\n",
      "Requirement already satisfied: types-redis<5.0.0,>=3.5.9 in /home/paulo/.local/lib/python3.9/site-packages (from redis-om->arXiv-vecsim==0.0.1) (4.3.21.3)\n",
      "Requirement already satisfied: more-itertools<9.0.0,>=8.14.0 in /home/paulo/.local/lib/python3.9/site-packages (from redis-om->arXiv-vecsim==0.0.1) (8.14.0)\n",
      "Requirement already satisfied: aioredis<3.0.0,>=2.0.0 in /home/paulo/.local/lib/python3.9/site-packages (from redis-om->arXiv-vecsim==0.0.1) (2.0.1)\n",
      "Requirement already satisfied: pylev<2.0.0,>=1.3.0 in /home/paulo/.local/lib/python3.9/site-packages (from cleo==1.0.0a5->redis-om->arXiv-vecsim==0.0.1) (1.4.0)\n",
      "Requirement already satisfied: crashtest<0.4.0,>=0.3.1 in /home/paulo/.local/lib/python3.9/site-packages (from cleo==1.0.0a5->redis-om->arXiv-vecsim==0.0.1) (0.3.1)\n",
      "Requirement already satisfied: sentencepiece in /home/paulo/.local/lib/python3.9/site-packages (from sentence-transformers->arXiv-vecsim==0.0.1) (0.1.95)\n",
      "Requirement already satisfied: torchvision in /home/paulo/.local/lib/python3.9/site-packages (from sentence-transformers->arXiv-vecsim==0.0.1) (0.13.1)\n",
      "Requirement already satisfied: nltk in /home/paulo/.local/lib/python3.9/site-packages (from sentence-transformers->arXiv-vecsim==0.0.1) (3.7)\n",
      "Requirement already satisfied: h11>=0.8 in /home/paulo/.local/lib/python3.9/site-packages (from uvicorn->arXiv-vecsim==0.0.1) (0.12.0)\n",
      "Requirement already satisfied: async-timeout in /home/paulo/.local/lib/python3.9/site-packages (from aioredis<3.0.0,>=2.0.0->redis-om->arXiv-vecsim==0.0.1) (4.0.2)\n",
      "Requirement already satisfied: parso<0.9.0,>=0.8.0 in /home/paulo/.local/lib/python3.9/site-packages (from jedi>=0.16->ipython->arXiv-vecsim==0.0.1) (0.8.3)\n",
      "Requirement already satisfied: pyparsing!=3.0.5,>=2.0.2 in /home/paulo/.local/lib/python3.9/site-packages (from packaging->datasets==2.6.1->arXiv-vecsim==0.0.1) (3.0.8)\n",
      "Requirement already satisfied: ptyprocess>=0.5 in /home/paulo/.local/lib/python3.9/site-packages (from pexpect>4.3->ipython->arXiv-vecsim==0.0.1) (0.7.0)\n",
      "Requirement already satisfied: wcwidth in /home/paulo/.local/lib/python3.9/site-packages (from prompt-toolkit!=3.0.0,!=3.0.1,<3.1.0,>=2.0.0->ipython->arXiv-vecsim==0.0.1) (0.2.5)\n",
      "Requirement already satisfied: deprecated>=1.2.3 in /home/paulo/.local/lib/python3.9/site-packages (from redis<5.0.0,>=3.5.3->redis-om->arXiv-vecsim==0.0.1) (1.2.13)\n",
      "Requirement already satisfied: frozenlist>=1.1.1 in /home/paulo/.local/lib/python3.9/site-packages (from aiohttp->datasets==2.6.1->arXiv-vecsim==0.0.1) (1.3.1)\n",
      "Requirement already satisfied: multidict<7.0,>=4.5 in /home/paulo/.local/lib/python3.9/site-packages (from aiohttp->datasets==2.6.1->arXiv-vecsim==0.0.1) (6.0.2)\n",
      "Requirement already satisfied: attrs>=17.3.0 in /home/paulo/.local/lib/python3.9/site-packages (from aiohttp->datasets==2.6.1->arXiv-vecsim==0.0.1) (21.4.0)\n",
      "Requirement already satisfied: aiosignal>=1.1.2 in /home/paulo/.local/lib/python3.9/site-packages (from aiohttp->datasets==2.6.1->arXiv-vecsim==0.0.1) (1.2.0)\n",
      "Requirement already satisfied: yarl<2.0,>=1.0 in /home/paulo/.local/lib/python3.9/site-packages (from aiohttp->datasets==2.6.1->arXiv-vecsim==0.0.1) (1.8.1)\n",
      "Requirement already satisfied: pure-eval in /home/paulo/.local/lib/python3.9/site-packages (from stack-data->ipython->arXiv-vecsim==0.0.1) (0.2.2)\n",
      "Requirement already satisfied: executing in /home/paulo/.local/lib/python3.9/site-packages (from stack-data->ipython->arXiv-vecsim==0.0.1) (0.8.3)\n",
      "Requirement already satisfied: asttokens in /home/paulo/.local/lib/python3.9/site-packages (from stack-data->ipython->arXiv-vecsim==0.0.1) (2.0.5)\n",
      "Requirement already satisfied: pillow!=8.3.*,>=5.3.0 in /home/paulo/.local/lib/python3.9/site-packages (from torchvision->sentence-transformers->arXiv-vecsim==0.0.1) (9.1.0)\n",
      "Requirement already satisfied: wrapt<2,>=1.10 in /home/paulo/.local/lib/python3.9/site-packages (from deprecated>=1.2.3->redis<5.0.0,>=3.5.3->redis-om->arXiv-vecsim==0.0.1) (1.14.1)\n",
      "Installing collected packages: arXiv-vecsim\n",
      "  Attempting uninstall: arXiv-vecsim\n",
      "    Found existing installation: arXiv-vecsim 0.0.1\n",
      "    Uninstalling arXiv-vecsim-0.0.1:\n",
      "      Successfully uninstalled arXiv-vecsim-0.0.1\n",
      "  Running setup.py develop for arXiv-vecsim\n",
      "Successfully installed arXiv-vecsim\n",
      "Note: you may need to restart the kernel to use updated packages.\n"
     ]
    }
   ],
   "source": [
    "%pip install -e ../../backend"
   ]
  },
  {
   "cell_type": "code",
   "execution_count": 5,
   "metadata": {},
   "outputs": [],
   "source": [
    "# os.chdir('../..')"
   ]
  },
  {
   "cell_type": "code",
   "execution_count": 2,
   "metadata": {},
   "outputs": [],
   "source": [
    "%load_ext autoreload\n",
    "%autoreload 2\n",
    "\n",
    "from transformers import BertForSequenceClassification\n",
    "from sklearn.preprocessing import MultiLabelBinarizer\n",
    "from transformers import AutoTokenizer\n",
    "import pickle\n",
    "    \n",
    "from vecsim_app.categories import CATEGORIES\n",
    "from vecsim_app.multilabel_classifier.inference import predict_categories, load_models"
   ]
  },
  {
   "cell_type": "code",
   "execution_count": 40,
   "metadata": {},
   "outputs": [],
   "source": [
    "model, tokenizer, mlb = load_models('./checkpoint/', './checkpoint/mlb.pkl')"
   ]
  },
  {
   "cell_type": "code",
   "execution_count": 41,
   "metadata": {},
   "outputs": [],
   "source": [
    "query = \"\"\"\n",
    "The World as Evolving Information   This paper discusses the benefits of describing the world as information,\\nespecially in the study of the evolution of life and cognition. Traditional\\nstudies encounter problems because it is difficult to describe life and\\ncognition in terms of matter and energy, since their laws are valid only at the\\nphysical scale. However, if matter and energy, as well as life and cognition,\\nare described in terms of information, evolution can be described consistently\\nas information becoming more complex.\\n  The paper presents eight tentative laws of information, valid at multiple\\nscales, which are generalizations of Darwinian, cybernetic, thermodynamic,\\npsychological, philosophical, and complexity principles. These are further used\\nto discuss the notions of life, cognition and their evolution.\\n\n",
    "\"\"\"\n",
    "\n",
    "queries = [query]"
   ]
  },
  {
   "cell_type": "code",
   "execution_count": 42,
   "metadata": {},
   "outputs": [
    {
     "data": {
      "text/plain": [
       "['cs.GR', 'cs.SD', 'hep-th', 'math.CT', 'math.MG', 'stat.ME']"
      ]
     },
     "execution_count": 42,
     "metadata": {},
     "output_type": "execute_result"
    }
   ],
   "source": [
    "categories = predict_categories(queries, model, tokenizer, mlb)\n",
    "categories"
   ]
  },
  {
   "cell_type": "code",
   "execution_count": 43,
   "metadata": {},
   "outputs": [],
   "source": [
    "pairs = [['The World as Evolving Information   This paper discusses the benefits of describing the world as information,\\nespecially in the study of the evolution of life and cognition. Traditional\\nstudies encounter problems because it is difficult to describe life and\\ncognition in terms of matter and energy, since their laws are valid only at the\\nphysical scale. However, if matter and energy, as well as life and cognition,\\nare described in terms of information, evolution can be described consistently\\nas information becoming more complex.\\n  The paper presents eight tentative laws of information, valid at multiple\\nscales, which are generalizations of Darwinian, cybernetic, thermodynamic,\\npsychological, philosophical, and complexity principles. These are further used\\nto discuss the notions of life, cognition and their evolution.\\n',\n",
    "        'cs.IT,cs.AI,math.IT,q-bio.PE'],\n",
    "       ['Nahm transform and parabolic minimal Laplace transform   We prove that Nahm transform for integrable connections with a finite number\\nof regular singularities and an irregular singularity of rank 1 on the Riemann\\nsphere is equivalent -- up to considering integrable connections as holonomic\\n$\\\\D$-modules -- to minimal Laplace transform. We assume semi-simplicity and\\nresonance-freeness conditions, and we work in the framework of objects with a\\nparabolic structure. In particular, we describe the definition of the parabolic\\nversion of Laplace transform due to C. Sabbah. The proof of the main result\\nrelies on the study of a twisted de Rham complex.\\n',\n",
    "        'math.AG'],\n",
    "       [\"Heat Equations and the Weighted $\\\\bar\\\\partial$-Problem   The purpose of this article is to establish regularity and pointwise upper\\nbounds for the (relative) fundamental solution of the heat equation associated\\nto the weighted dbar-operator in $L^2(C^n)$ for a certain class of weights. The\\nweights depend on a parameter, and we find pointwise bounds for heat kernel, as\\nwell as its derivatives in time, space, and the parameter. We also prove\\ncancellation conditions for the heat semigroup. We reduce the $n$-dimensional\\ncase to the one-dimensional case, and the estimates in one-dimensional case are\\nachieved by Duhamel's principle and commutator properties of the operators. As\\nan application, we recover estimates of heat kernels on polynomial models in\\n$C^2$.\\n\",\n",
    "        'math.AP,math.CV'],\n",
    "       ['Characterization of polynomials   In 1954 it was proved if f is infinitely differentiable in the interval I and\\nsome derivative (of order depending on x) vanishes at each x, then f is a\\npolynomial. Later it was generalized for multi-variable case. In this paper we\\ngive an extension for distributions.\\n',\n",
    "        'math.AP,math.FA'],\n",
    "       ['Groups of diffeomorphisms and geometric loops of manifolds over\\n  ultra-normed fields   The article is devoted to the investigation of groups of diffeomorphisms and\\nloops of manifolds over ultra-metric fields of zero and positive\\ncharacteristics. Different types of topologies are considered on groups of\\nloops and diffeomorphisms relative to which they are generalized Lie groups or\\ntopological groups. Among such topologies pairwise incomparable are found as\\nwell. Topological perfectness of the diffeomorphism group relative to certain\\ntopologies is studied. There are proved theorems about projective limit\\ndecompositions of these groups and their compactifications for compact\\nmanifolds. Moreover, an existence of one-parameter local subgroups of\\ndiffeomorphism groups is investigated.\\n',\n",
    "        'math.GR,math.FA'],\n",
    "       ['Suppression of growth by multiplicative white noise in a parametric\\n  resonant system   The author studied the growth of the amplitude in a Mathieu-like equation\\nwith multiplicative white noise. The approximate value of the exponent at the\\nextremum on parametric resonance regions was obtained theoretically by\\nintroducing the width of time interval, and the exponents were calculated\\nnumerically by solving the stochastic differential equations by a symplectic\\nnumerical method. The Mathieu-like equation contains a parameter $\\\\alpha$ that\\nis determined by the intensity of noise and the strength of the coupling\\nbetween the variable and the noise. The value of $\\\\alpha$ was restricted not to\\nbe negative without loss of generality. It was shown that the exponent\\ndecreases with $\\\\alpha$, reaches a minimum and increases after that. It was\\nalso found that the exponent as a function of $\\\\alpha$ has only one minimum at\\n$\\\\alpha \\\\neq 0$ on parametric resonance regions of $\\\\alpha = 0$. This minimum\\nvalue is obtained theoretically and numerically. The existence of the minimum\\nat $\\\\alpha \\\\neq 0$ indicates the suppression of the growth by multiplicative\\nwhite noise.\\n',\n",
    "        'cond-mat.stat-mech,cond-mat.other'],\n",
    "       ['Nonholonomic Algebroids, Finsler Geometry, and Lagrange-Hamilton Spaces   We elaborate an unified geometric approach to classical mechanics,\\nRiemann-Finsler spaces and gravity theories on Lie algebroids provided with\\nnonlinear connection (N-connection) structure. There are investigated the\\nconditions when the fundamental geometric objects like the anchor, metric and\\nlinear connection, almost sympletic and related almost complex structures may\\nbe canonically defined by a N-connection induced from a regular Lagrangian (or\\nHamiltonian), in mechanical models, or by generic off-diagonal metric terms and\\nnonholonomic frames, in gravity theories. Such geometric constructions are\\nmodelled on nonholonomic manifolds provided with nonintegrable distributions\\nand related chains of exact sequences of submanifolds defining N-connections.\\nWe investigate the main properties of the Lagrange, Hamilton, Finsler-Riemann\\nand Einstein-Cartan algebroids and construct and analyze exact solutions\\ndescribing such objects.\\n',\n",
    "        'math-ph,gr-qc,hep-th,math.DG,math.MP'],\n",
    "       ['Stability of the periodic Toda lattice under short range perturbations   We consider the stability of the periodic Toda lattice (and slightly more\\ngenerally of the algebro-geometric finite-gap lattice) under a short range\\nperturbation. We prove that the perturbed lattice asymptotically approaches a\\nmodulated lattice.\\n  More precisely, let $g$ be the genus of the hyperelliptic curve associated\\nwith the unperturbed solution. We show that, apart from the phenomenon of the\\nsolitons travelling on the quasi-periodic background, the $n/t$-pane contains\\n$g+2$ areas where the perturbed solution is close to a finite-gap solution in\\nthe same isospectral torus. In between there are $g+1$ regions where the\\nperturbed solution is asymptotically close to a modulated lattice which\\nundergoes a continuous phase transition (in the Jacobian variety) and which\\ninterpolates between these isospectral solutions. In the special case of the\\nfree lattice ($g=0$) the isospectral torus consists of just one point and we\\nrecover the known result.\\n  Both the solutions in the isospectral torus and the phase transition are\\nexplicitly characterized in terms of Abelian integrals on the underlying\\nhyperelliptic curve.\\n  Our method relies on the equivalence of the inverse spectral problem to a\\nmatrix Riemann--Hilbert problem defined on the hyperelliptic curve and\\ngeneralizes the so-called nonlinear stationary phase/steepest descent method\\nfor Riemann--Hilbert problem deformations to Riemann surfaces.\\n',\n",
    "        'nlin.SI,math-ph,math.MP'],\n",
    "       ['Non Supersymmetric Metastable Vacua in N=2 SYM Softly Broken to N=1   We find non-supersymmetric metastable vacua in four dimensional N=2 gauge\\ntheories softly broken to N=1 by a superpotential term. First we study the\\nsimplest case, namely the SU(2) gauge theory without flavors. We study the\\nspectrum and lifetime of the metastable vacuum and possible embeddings of the\\nmodel in UV complete theories. Then we consider larger gauge group theories\\nwith flavors. We show that when we softly break them to N=1, the potential\\ninduced on specific submanifolds of their moduli space is identical to the\\npotential in lower rank gauge theories. Then we show that the potential\\nincreases when we move away from this submanifold, allowing us to construct\\nmetastable vacua on them in the theories that can be reduced to the SU(2) case.\\n',\n",
    "        'hep-th'],\n",
    "       ['Strong Stein neighborhood bases   Let D be a smooth bounded pseudoconvex domain in C^n. We give several\\ncharacterizations for the closure of D to have a strong Stein neighborhood\\nbasis in the sense that D has a defining function r such that {z\\\\in C^n:r(z)<a}\\nis pseudoconvex for sufficiently small a>0. We also show that this condition is\\ninvariant under proper holomorphic maps that extend smoothly to the boundary.\\n',\n",
    "        'math.CV']]"
   ]
  },
  {
   "cell_type": "code",
   "execution_count": 44,
   "metadata": {},
   "outputs": [
    {
     "name": "stdout",
     "output_type": "stream",
     "text": [
      "actual ['Graphics', 'Sound', 'High Energy Physics - Theory', 'Category Theory', 'Metric Geometry', 'Methodology']\n",
      "expected ['Artificial Intelligence', 'Information Theory', 'Information Theory', 'Populations and Evolution']\n",
      "\n",
      "actual ['Graphics', 'Sound', 'High Energy Physics - Theory', 'Category Theory', 'Metric Geometry', 'Methodology']\n",
      "expected ['Algebraic Geometry']\n",
      "\n",
      "actual ['Graphics', 'Sound', 'High Energy Physics - Theory', 'Category Theory', 'Metric Geometry', 'Methodology']\n",
      "expected ['Analysis of PDEs', 'Complex Variables']\n",
      "\n",
      "actual ['Graphics', 'Sound', 'Category Theory', 'Metric Geometry', 'Methodology']\n",
      "expected ['Analysis of PDEs', 'Functional Analysis']\n",
      "\n",
      "actual ['Graphics', 'Sound', 'Category Theory', 'Metric Geometry', 'Methodology']\n",
      "expected ['Functional Analysis', 'Group Theory']\n",
      "\n",
      "actual ['Graphics', 'Sound', 'High Energy Physics - Theory', 'Category Theory', 'Metric Geometry', 'Methodology']\n",
      "expected ['Other Condensed Matter', 'Statistical Mechanics']\n",
      "\n",
      "actual ['Graphics', 'Sound', 'Category Theory', 'Metric Geometry', 'Methodology']\n",
      "expected ['General Relativity and Quantum Cosmology', 'High Energy Physics - Theory', 'Mathematical Physics', 'Differential Geometry', 'Mathematical Physics']\n",
      "\n",
      "actual ['Graphics', 'Sound', 'High Energy Physics - Theory', 'Category Theory', 'Metric Geometry', 'Methodology']\n",
      "expected ['Mathematical Physics', 'Mathematical Physics', 'Exactly Solvable and Integrable Systems']\n",
      "\n",
      "actual ['Graphics', 'Sound', 'Category Theory', 'Metric Geometry', 'Methodology']\n",
      "expected ['High Energy Physics - Theory']\n",
      "\n",
      "actual ['Graphics', 'Sound', 'High Energy Physics - Theory', 'Category Theory', 'Metric Geometry', 'Methodology']\n",
      "expected ['Complex Variables']\n",
      "\n"
     ]
    }
   ],
   "source": [
    "for text, expected_categories in pairs:\n",
    "    actual = predict_categories([text], model, tokenizer, mlb)\n",
    "    print('actual', [CATEGORIES[c] for c in actual])\n",
    "    print('expected', [CATEGORIES[c] for c in sorted(expected_categories.split(','))])\n",
    "    print()"
   ]
  },
  {
   "cell_type": "code",
   "execution_count": null,
   "metadata": {},
   "outputs": [],
   "source": []
  }
 ],
 "metadata": {
  "kernelspec": {
   "display_name": "Python 3.9.12 64-bit",
   "language": "python",
   "name": "python3"
  },
  "language_info": {
   "codemirror_mode": {
    "name": "ipython",
    "version": 3
   },
   "file_extension": ".py",
   "mimetype": "text/x-python",
   "name": "python",
   "nbconvert_exporter": "python",
   "pygments_lexer": "ipython3",
   "version": "3.9.12"
  },
  "orig_nbformat": 4,
  "vscode": {
   "interpreter": {
    "hash": "767d51c1340bd893661ea55ea3124f6de3c7a262a8b4abca0554b478b1e2ff90"
   }
  }
 },
 "nbformat": 4,
 "nbformat_minor": 2
}
