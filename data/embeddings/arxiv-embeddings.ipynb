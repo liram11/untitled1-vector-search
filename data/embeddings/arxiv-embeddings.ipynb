{
 "cells": [
  {
   "cell_type": "code",
   "execution_count": 5,
   "id": "fd6ed5af",
   "metadata": {},
   "outputs": [
    {
     "name": "stdout",
     "output_type": "stream",
     "text": [
      "The autoreload extension is already loaded. To reload it, use:\n",
      "  %reload_ext autoreload\n"
     ]
    }
   ],
   "source": [
    "%load_ext autoreload\n",
    "%autoreload 2"
   ]
  },
  {
   "cell_type": "code",
   "execution_count": 6,
   "id": "51dbaff8",
   "metadata": {},
   "outputs": [
    {
     "name": "stdout",
     "output_type": "stream",
     "text": [
      "\u001b[33mWARNING: You are using pip version 22.0.4; however, version 22.3.1 is available.\n",
      "You should consider upgrading via the '/home/jovyan/workspace/untitled1-vector-search/.venv/bin/python -m pip install --upgrade pip' command.\u001b[0m\u001b[33m\n",
      "\u001b[0mNote: you may need to restart the kernel to use updated packages.\n"
     ]
    }
   ],
   "source": [
    "%pip install -q -r requirements.txt"
   ]
  },
  {
   "cell_type": "code",
   "execution_count": 7,
   "id": "cc20c14a",
   "metadata": {},
   "outputs": [],
   "source": [
    "import json\n",
    "import pandas as pd\n",
    "import os\n",
    "import re\n",
    "import string\n",
    "\n",
    "from vecsim_app.embeddings import Embeddings\n",
    "from vecsim_app.data_utils import papers\n",
    "\n",
    "\n",
    "DATA_PATH = \"/home/jovyan/arxiv/arxiv-metadata-oai-snapshot.json\"\n",
    "YEAR_CUTOFF = 2012\n",
    "YEAR_PATTERN = r\"(19|20[0-9]{2})\"\n",
    "ML_CATEGORY = \"cs.LG\""
   ]
  },
  {
   "cell_type": "code",
   "execution_count": 8,
   "id": "04abead5-2567-47ed-ac51-abb10ca4b4c3",
   "metadata": {
    "tags": []
   },
   "outputs": [
    {
     "data": {
      "text/plain": [
       "11419"
      ]
     },
     "execution_count": 8,
     "metadata": {},
     "output_type": "execute_result"
    }
   ],
   "source": [
    "df = pd.DataFrame(papers(data_path=DATA_PATH, year_cutoff=YEAR_CUTOFF, year_pattern=YEAR_PATTERN, ml_category=ML_CATEGORY))\n",
    "len(df)"
   ]
  },
  {
   "cell_type": "code",
   "execution_count": 9,
   "id": "aee130cd",
   "metadata": {},
   "outputs": [
    {
     "data": {
      "text/plain": [
       "169.84534547683685"
      ]
     },
     "execution_count": 9,
     "metadata": {},
     "output_type": "execute_result"
    }
   ],
   "source": [
    "# Avg length of the abstracts\n",
    "df.abstract.apply(lambda a: len(a.split())).mean()"
   ]
  },
  {
   "cell_type": "code",
   "execution_count": 10,
   "id": "a1313d8d",
   "metadata": {},
   "outputs": [
    {
     "data": {
      "text/html": [
       "<div>\n",
       "<style scoped>\n",
       "    .dataframe tbody tr th:only-of-type {\n",
       "        vertical-align: middle;\n",
       "    }\n",
       "\n",
       "    .dataframe tbody tr th {\n",
       "        vertical-align: top;\n",
       "    }\n",
       "\n",
       "    .dataframe thead th {\n",
       "        text-align: right;\n",
       "    }\n",
       "</style>\n",
       "<table border=\"1\" class=\"dataframe\">\n",
       "  <thead>\n",
       "    <tr style=\"text-align: right;\">\n",
       "      <th></th>\n",
       "      <th>id</th>\n",
       "      <th>title</th>\n",
       "      <th>year</th>\n",
       "      <th>authors</th>\n",
       "      <th>categories</th>\n",
       "      <th>abstract</th>\n",
       "    </tr>\n",
       "  </thead>\n",
       "  <tbody>\n",
       "    <tr>\n",
       "      <th>0</th>\n",
       "      <td>0705.4485</td>\n",
       "      <td>Mixed membership stochastic blockmodels</td>\n",
       "      <td>2014</td>\n",
       "      <td>Edoardo M Airoldi, David M Blei, Stephen E Fie...</td>\n",
       "      <td>stat.ME,cs.LG,math.ST,physics.soc-ph,stat.ML,s...</td>\n",
       "      <td>Observations consisting of measurements on r...</td>\n",
       "    </tr>\n",
       "    <tr>\n",
       "      <th>1</th>\n",
       "      <td>0808.3231</td>\n",
       "      <td>Multi-Instance Multi-Label Learning</td>\n",
       "      <td>2012</td>\n",
       "      <td>Zhi-Hua Zhou, Min-Ling Zhang, Sheng-Jun Huang,...</td>\n",
       "      <td>cs.LG,cs.AI</td>\n",
       "      <td>In this paper, we propose the MIML (Multi-In...</td>\n",
       "    </tr>\n",
       "    <tr>\n",
       "      <th>2</th>\n",
       "      <td>0811.4413</td>\n",
       "      <td>A Spectral Algorithm for Learning Hidden Marko...</td>\n",
       "      <td>2012</td>\n",
       "      <td>Daniel Hsu, Sham M. Kakade, Tong Zhang</td>\n",
       "      <td>cs.LG,cs.AI</td>\n",
       "      <td>Hidden Markov Models (HMMs) are one of the m...</td>\n",
       "    </tr>\n",
       "    <tr>\n",
       "      <th>3</th>\n",
       "      <td>0903.4817</td>\n",
       "      <td>An Exponential Lower Bound on the Complexity o...</td>\n",
       "      <td>2012</td>\n",
       "      <td>Bernd G\\\"artner, Martin Jaggi and Cl\\'ement Maria</td>\n",
       "      <td>cs.LG,cs.CG,cs.CV,math.OC,stat.ML</td>\n",
       "      <td>For a variety of regularized optimization pr...</td>\n",
       "    </tr>\n",
       "    <tr>\n",
       "      <th>4</th>\n",
       "      <td>0909.5175</td>\n",
       "      <td>Bounding the Sensitivity of Polynomial Thresho...</td>\n",
       "      <td>2013</td>\n",
       "      <td>Prahladh Harsha, Adam Klivans, Raghu Meka</td>\n",
       "      <td>cs.CC,cs.LG</td>\n",
       "      <td>We give the first non-trivial upper bounds o...</td>\n",
       "    </tr>\n",
       "    <tr>\n",
       "      <th>...</th>\n",
       "      <td>...</td>\n",
       "      <td>...</td>\n",
       "      <td>...</td>\n",
       "      <td>...</td>\n",
       "      <td>...</td>\n",
       "      <td>...</td>\n",
       "    </tr>\n",
       "    <tr>\n",
       "      <th>11414</th>\n",
       "      <td>2211.00724</td>\n",
       "      <td>Privacy Induces Robustness: Information-Comput...</td>\n",
       "      <td>2022</td>\n",
       "      <td>Kristian Georgiev, Samuel B. Hopkins</td>\n",
       "      <td>stat.ML,cs.DS,cs.LG</td>\n",
       "      <td>We establish a simple connection between rob...</td>\n",
       "    </tr>\n",
       "    <tr>\n",
       "      <th>11415</th>\n",
       "      <td>2211.01107</td>\n",
       "      <td>Deep Reinforcement Learning for Power Control ...</td>\n",
       "      <td>2022</td>\n",
       "      <td>Ziad El Jamous and Kemal Davaslioglu and Yalin...</td>\n",
       "      <td>cs.NI,cs.LG,cs.SY,eess.SY</td>\n",
       "      <td>This paper presents a deep reinforcement lea...</td>\n",
       "    </tr>\n",
       "    <tr>\n",
       "      <th>11416</th>\n",
       "      <td>2211.01373</td>\n",
       "      <td>Interpretable Modeling and Reduction of Unknow...</td>\n",
       "      <td>2022</td>\n",
       "      <td>Maryam Toloubidokhti, Nilesh Kumar, Zhiyuan Li...</td>\n",
       "      <td>eess.IV,cs.AI,cs.LG</td>\n",
       "      <td>Prior knowledge about the imaging physics pr...</td>\n",
       "    </tr>\n",
       "    <tr>\n",
       "      <th>11417</th>\n",
       "      <td>2211.01500</td>\n",
       "      <td>Learning to Grasp the Ungraspable with Emergen...</td>\n",
       "      <td>2022</td>\n",
       "      <td>Wenxuan Zhou, David Held</td>\n",
       "      <td>cs.RO,cs.AI,cs.LG</td>\n",
       "      <td>A simple gripper can solve more complex mani...</td>\n",
       "    </tr>\n",
       "    <tr>\n",
       "      <th>11418</th>\n",
       "      <td>2211.01675</td>\n",
       "      <td>Spam Review Detection Using Deep Learning</td>\n",
       "      <td>2019</td>\n",
       "      <td>G. M. Shahariar, Swapnil Biswas, Faiza Omar, F...</td>\n",
       "      <td>cs.CL,cs.AI,cs.LG</td>\n",
       "      <td>A robust and reliable system of detecting sp...</td>\n",
       "    </tr>\n",
       "  </tbody>\n",
       "</table>\n",
       "<p>11419 rows × 6 columns</p>\n",
       "</div>"
      ],
      "text/plain": [
       "               id                                              title  year  \\\n",
       "0       0705.4485            Mixed membership stochastic blockmodels  2014   \n",
       "1       0808.3231                Multi-Instance Multi-Label Learning  2012   \n",
       "2       0811.4413  A Spectral Algorithm for Learning Hidden Marko...  2012   \n",
       "3       0903.4817  An Exponential Lower Bound on the Complexity o...  2012   \n",
       "4       0909.5175  Bounding the Sensitivity of Polynomial Thresho...  2013   \n",
       "...           ...                                                ...   ...   \n",
       "11414  2211.00724  Privacy Induces Robustness: Information-Comput...  2022   \n",
       "11415  2211.01107  Deep Reinforcement Learning for Power Control ...  2022   \n",
       "11416  2211.01373  Interpretable Modeling and Reduction of Unknow...  2022   \n",
       "11417  2211.01500  Learning to Grasp the Ungraspable with Emergen...  2022   \n",
       "11418  2211.01675          Spam Review Detection Using Deep Learning  2019   \n",
       "\n",
       "                                                 authors  \\\n",
       "0      Edoardo M Airoldi, David M Blei, Stephen E Fie...   \n",
       "1      Zhi-Hua Zhou, Min-Ling Zhang, Sheng-Jun Huang,...   \n",
       "2                 Daniel Hsu, Sham M. Kakade, Tong Zhang   \n",
       "3      Bernd G\\\"artner, Martin Jaggi and Cl\\'ement Maria   \n",
       "4              Prahladh Harsha, Adam Klivans, Raghu Meka   \n",
       "...                                                  ...   \n",
       "11414               Kristian Georgiev, Samuel B. Hopkins   \n",
       "11415  Ziad El Jamous and Kemal Davaslioglu and Yalin...   \n",
       "11416  Maryam Toloubidokhti, Nilesh Kumar, Zhiyuan Li...   \n",
       "11417                           Wenxuan Zhou, David Held   \n",
       "11418  G. M. Shahariar, Swapnil Biswas, Faiza Omar, F...   \n",
       "\n",
       "                                              categories  \\\n",
       "0      stat.ME,cs.LG,math.ST,physics.soc-ph,stat.ML,s...   \n",
       "1                                            cs.LG,cs.AI   \n",
       "2                                            cs.LG,cs.AI   \n",
       "3                      cs.LG,cs.CG,cs.CV,math.OC,stat.ML   \n",
       "4                                            cs.CC,cs.LG   \n",
       "...                                                  ...   \n",
       "11414                                stat.ML,cs.DS,cs.LG   \n",
       "11415                          cs.NI,cs.LG,cs.SY,eess.SY   \n",
       "11416                                eess.IV,cs.AI,cs.LG   \n",
       "11417                                  cs.RO,cs.AI,cs.LG   \n",
       "11418                                  cs.CL,cs.AI,cs.LG   \n",
       "\n",
       "                                                abstract  \n",
       "0        Observations consisting of measurements on r...  \n",
       "1        In this paper, we propose the MIML (Multi-In...  \n",
       "2        Hidden Markov Models (HMMs) are one of the m...  \n",
       "3        For a variety of regularized optimization pr...  \n",
       "4        We give the first non-trivial upper bounds o...  \n",
       "...                                                  ...  \n",
       "11414    We establish a simple connection between rob...  \n",
       "11415    This paper presents a deep reinforcement lea...  \n",
       "11416    Prior knowledge about the imaging physics pr...  \n",
       "11417    A simple gripper can solve more complex mani...  \n",
       "11418    A robust and reliable system of detecting sp...  \n",
       "\n",
       "[11419 rows x 6 columns]"
      ]
     },
     "execution_count": 10,
     "metadata": {},
     "output_type": "execute_result"
    }
   ],
   "source": [
    "df"
   ]
  },
  {
   "cell_type": "code",
   "execution_count": 11,
   "id": "f295cc33",
   "metadata": {},
   "outputs": [
    {
     "data": {
      "text/plain": [
       "0    Edoardo Airoldi David Blei Stephen Fienberg Er...\n",
       "1    Zhi Hua Zhou Min Ling Zhang Sheng Jun Huang Yu...\n",
       "2                    Daniel Hsu Sham Kakade Tong Zhang\n",
       "Name: authors_clean, dtype: object"
      ]
     },
     "execution_count": 11,
     "metadata": {},
     "output_type": "execute_result"
    }
   ],
   "source": [
    "df['authors_clean'] = df['authors'].apply(lambda a: ' '.join(re.findall(r'\\w\\w+', a)).strip())\n",
    "df['authors_clean'][:3]"
   ]
  },
  {
   "cell_type": "code",
   "execution_count": 12,
   "id": "6336293d",
   "metadata": {},
   "outputs": [
    {
     "data": {
      "text/plain": [
       "0     edoardo airoldi david blei stephen fienberg e...\n",
       "Name: text, dtype: object"
      ]
     },
     "execution_count": 12,
     "metadata": {},
     "output_type": "execute_result"
    }
   ],
   "source": [
    "df['text'] = df.apply(lambda r: Embeddings.clean_description(r['authors_clean'] + ' ' + r['title'] + ' ' + r['abstract']), axis=1)\n",
    "df['text'][:1]"
   ]
  },
  {
   "cell_type": "code",
   "execution_count": 13,
   "id": "ef747be9",
   "metadata": {},
   "outputs": [],
   "source": [
    "from sentence_transformers import SentenceTransformer\n",
    "#see models here: https://www.sbert.net/docs/pretrained_models.html\n",
    "model_name = 'sentence-transformers/all-distilroberta-v1'\n",
    "\n",
    "model = SentenceTransformer(model_name)"
   ]
  },
  {
   "cell_type": "code",
   "execution_count": 14,
   "id": "249ad360",
   "metadata": {},
   "outputs": [],
   "source": [
    "# Create embeddings from the title and abstract\n",
    "emb = model.encode(df['text'].tolist())"
   ]
  },
  {
   "cell_type": "code",
   "execution_count": 15,
   "id": "f7b4974a",
   "metadata": {},
   "outputs": [],
   "source": [
    "# Add embeddings to df\n",
    "df = df.reset_index().drop('index', axis=1)\n",
    "df['vector'] = emb.tolist()"
   ]
  },
  {
   "cell_type": "code",
   "execution_count": 16,
   "id": "ab41fe6c-5620-489f-9004-cb0fe0b094cb",
   "metadata": {
    "tags": []
   },
   "outputs": [],
   "source": [
    "import pickle\n",
    "\n",
    "# Export to file!\n",
    "with open(f'arxiv_embeddings_10000.pkl', 'wb') as f:\n",
    "    data = pickle.dumps(df)\n",
    "    f.write(data)"
   ]
  },
  {
   "cell_type": "code",
   "execution_count": 17,
   "id": "4df5b7c8",
   "metadata": {},
   "outputs": [
    {
     "name": "stdout",
     "output_type": "stream",
     "text": [
      "huggingface/tokenizers: The current process just got forked, after parallelism has already been used. Disabling parallelism to avoid deadlocks...\n",
      "To disable this warning, you can either:\n",
      "\t- Avoid using `tokenizers` before the fork if possible\n",
      "\t- Explicitly set the environment variable TOKENIZERS_PARALLELISM=(true | false)\n",
      "total 106M\n",
      "-rw-rw-r-- 1 jovyan jovyan 106M Nov  6 05:23 arxiv_embeddings_10000.pkl\n",
      "-rw-rw-r-- 1 jovyan jovyan  16K Nov  6 05:23 arxiv-embeddings.ipynb\n",
      "-rw-rw-r-- 1 jovyan jovyan 1.9K Nov  5 23:59 requirements.txt\n"
     ]
    }
   ],
   "source": [
    "!ls -lh ."
   ]
  },
  {
   "cell_type": "code",
   "execution_count": null,
   "id": "7969cbea",
   "metadata": {},
   "outputs": [],
   "source": []
  }
 ],
 "metadata": {
  "kernelspec": {
   "display_name": "Python 3.9.12 ('.venv': venv)",
   "language": "python",
   "name": "python3"
  },
  "language_info": {
   "codemirror_mode": {
    "name": "ipython",
    "version": 3
   },
   "file_extension": ".py",
   "mimetype": "text/x-python",
   "name": "python",
   "nbconvert_exporter": "python",
   "pygments_lexer": "ipython3",
   "version": "3.9.12"
  },
  "vscode": {
   "interpreter": {
    "hash": "486aa7497ff1908066149d855567f813bfcb27c90121131157edc4f2e3e13597"
   }
  }
 },
 "nbformat": 4,
 "nbformat_minor": 5
}
