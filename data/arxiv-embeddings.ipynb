{
 "cells": [
  {
   "cell_type": "code",
   "execution_count": null,
   "id": "19c7a6e0-3c74-43e9-9ba1-03a459d2d9e3",
   "metadata": {
    "execution": {
     "iopub.execute_input": "2022-11-01T00:02:56.172927Z",
     "iopub.status.busy": "2022-11-01T00:02:56.172385Z",
     "iopub.status.idle": "2022-11-01T00:02:56.187644Z",
     "shell.execute_reply": "2022-11-01T00:02:56.187157Z",
     "shell.execute_reply.started": "2022-11-01T00:02:56.172847Z"
    },
    "tags": []
   },
   "outputs": [],
   "source": [
    "%load_ext autoreload\n",
    "%autoreload 2"
   ]
  },
  {
   "cell_type": "code",
   "execution_count": null,
   "id": "f8b8c887",
   "metadata": {},
   "outputs": [],
   "source": [
    "%pip install -e ../backend"
   ]
  },
  {
   "cell_type": "code",
   "execution_count": 3,
   "id": "cc20c14a",
   "metadata": {
    "execution": {
     "iopub.execute_input": "2022-11-01T00:02:56.910921Z",
     "iopub.status.busy": "2022-11-01T00:02:56.910549Z",
     "iopub.status.idle": "2022-11-01T00:02:57.150704Z",
     "shell.execute_reply": "2022-11-01T00:02:57.150149Z",
     "shell.execute_reply.started": "2022-11-01T00:02:56.910897Z"
    },
    "tags": []
   },
   "outputs": [],
   "source": [
    "import json\n",
    "import pandas as pd\n",
    "import os\n",
    "import re\n",
    "import string\n",
    "\n",
    "\n",
    "DATA_PATH = \"arxiv/arxiv-metadata-oai-snapshot.json\"\n",
    "YEAR_CUTOFF = 2012\n",
    "YEAR_PATTERN = r\"(19|20[0-9]{2})\"\n",
    "ML_CATEGORY = \"cs.LG\""
   ]
  },
  {
   "cell_type": "code",
   "execution_count": 43,
   "id": "05e20498",
   "metadata": {
    "execution": {
     "iopub.execute_input": "2022-11-01T00:25:15.820626Z",
     "iopub.status.busy": "2022-11-01T00:25:15.820234Z",
     "iopub.status.idle": "2022-11-01T00:25:15.837240Z",
     "shell.execute_reply": "2022-11-01T00:25:15.836742Z",
     "shell.execute_reply.started": "2022-11-01T00:25:15.820599Z"
    },
    "tags": []
   },
   "outputs": [],
   "source": [
    "def process(paper: dict):\n",
    "    paper = json.loads(paper)\n",
    "    if paper['journal-ref']:\n",
    "        years = [int(year) for year in re.findall(YEAR_PATTERN, paper['journal-ref'])]\n",
    "        years = [year for year in years if (year <= 2022 and year >= 1991)]\n",
    "        year = min(years) if years else None\n",
    "    else:\n",
    "        year = None\n",
    "    return {\n",
    "        'id': paper['id'],\n",
    "        'title': paper['title'],\n",
    "        'year': year,\n",
    "        'authors': paper['authors'],\n",
    "        'categories': ','.join(paper['categories'].split(' ')),\n",
    "        'abstract': paper['abstract']\n",
    "    }\n",
    "\n",
    "def papers():\n",
    "    with open(DATA_PATH, 'r') as f:\n",
    "        for paper in f:\n",
    "            paper = process(paper)\n",
    "            if paper['year']:\n",
    "                if paper['year'] >= YEAR_CUTOFF and ML_CATEGORY in paper['categories']:\n",
    "                    yield paper"
   ]
  },
  {
   "cell_type": "code",
   "execution_count": 44,
   "id": "04abead5-2567-47ed-ac51-abb10ca4b4c3",
   "metadata": {
    "execution": {
     "iopub.execute_input": "2022-11-01T00:25:16.647216Z",
     "iopub.status.busy": "2022-11-01T00:25:16.646889Z",
     "iopub.status.idle": "2022-11-01T00:25:49.955632Z",
     "shell.execute_reply": "2022-11-01T00:25:49.955100Z",
     "shell.execute_reply.started": "2022-11-01T00:25:16.647193Z"
    },
    "tags": []
   },
   "outputs": [
    {
     "data": {
      "text/plain": [
       "11361"
      ]
     },
     "execution_count": 44,
     "metadata": {},
     "output_type": "execute_result"
    }
   ],
   "source": [
    "df = pd.DataFrame(papers())\n",
    "len(df)"
   ]
  },
  {
   "cell_type": "code",
   "execution_count": 45,
   "id": "aee130cd",
   "metadata": {
    "execution": {
     "iopub.execute_input": "2022-11-01T00:25:49.957066Z",
     "iopub.status.busy": "2022-11-01T00:25:49.956777Z",
     "iopub.status.idle": "2022-11-01T00:25:50.062262Z",
     "shell.execute_reply": "2022-11-01T00:25:50.061806Z",
     "shell.execute_reply.started": "2022-11-01T00:25:49.957046Z"
    },
    "tags": []
   },
   "outputs": [
    {
     "data": {
      "text/plain": [
       "169.8317049555497"
      ]
     },
     "execution_count": 45,
     "metadata": {},
     "output_type": "execute_result"
    }
   ],
   "source": [
    "# Avg length of the abstracts\n",
    "df.abstract.apply(lambda a: len(a.split())).mean()"
   ]
  },
  {
   "cell_type": "code",
   "execution_count": 46,
   "id": "1415eabf-965a-465a-98ec-7cdec531f933",
   "metadata": {
    "execution": {
     "iopub.execute_input": "2022-11-01T00:25:50.063344Z",
     "iopub.status.busy": "2022-11-01T00:25:50.062921Z",
     "iopub.status.idle": "2022-11-01T00:25:50.077601Z",
     "shell.execute_reply": "2022-11-01T00:25:50.077150Z",
     "shell.execute_reply.started": "2022-11-01T00:25:50.063324Z"
    },
    "tags": []
   },
   "outputs": [],
   "source": [
    "def clean_description(description: str):\n",
    "    if not description:\n",
    "        return \"\"\n",
    "    # remove unicode characters\n",
    "    description = description.encode('ascii', 'ignore').decode()\n",
    "\n",
    "    # remove punctuation\n",
    "    description = re.sub('[%s]' % re.escape(string.punctuation), ' ', description)\n",
    "\n",
    "    # clean up the spacing\n",
    "    description = re.sub('\\s{2,}', \" \", description)\n",
    "\n",
    "    # remove urls\n",
    "    #description = re.sub(\"https*\\S+\", \" \", description)\n",
    "\n",
    "    # remove newlines\n",
    "    description = description.replace(\"\\n\", \" \")\n",
    "\n",
    "    # remove all numbers\n",
    "    #description = re.sub('\\w*\\d+\\w*', '', description)\n",
    "\n",
    "    # split on capitalized words\n",
    "    description = \" \".join(re.split('(?=[A-Z])', description))\n",
    "\n",
    "    # clean up the spacing again\n",
    "    description = re.sub('\\s{2,}', \" \", description)\n",
    "\n",
    "    # make all words lowercase\n",
    "    description = description.lower()\n",
    "\n",
    "    return description"
   ]
  },
  {
   "cell_type": "code",
   "execution_count": 12,
   "id": "ef747be9",
   "metadata": {
    "execution": {
     "iopub.execute_input": "2022-10-31T22:12:00.385776Z",
     "iopub.status.busy": "2022-10-31T22:12:00.385379Z",
     "iopub.status.idle": "2022-10-31T22:12:15.749963Z",
     "shell.execute_reply": "2022-10-31T22:12:15.749207Z",
     "shell.execute_reply.started": "2022-10-31T22:12:00.385737Z"
    }
   },
   "outputs": [
    {
     "data": {
      "application/vnd.jupyter.widget-view+json": {
       "model_id": "82b2947ce24b41e7b677dd62db4c19d7",
       "version_major": 2,
       "version_minor": 0
      },
      "text/plain": [
       "Downloading:   0%|          | 0.00/1.18k [00:00<?, ?B/s]"
      ]
     },
     "metadata": {},
     "output_type": "display_data"
    },
    {
     "data": {
      "application/vnd.jupyter.widget-view+json": {
       "model_id": "66f845fadb9441aaae72e35fe20e4269",
       "version_major": 2,
       "version_minor": 0
      },
      "text/plain": [
       "Downloading:   0%|          | 0.00/190 [00:00<?, ?B/s]"
      ]
     },
     "metadata": {},
     "output_type": "display_data"
    },
    {
     "data": {
      "application/vnd.jupyter.widget-view+json": {
       "model_id": "2a80ea2f558d47819320bd1c8d56c904",
       "version_major": 2,
       "version_minor": 0
      },
      "text/plain": [
       "Downloading:   0%|          | 0.00/10.6k [00:00<?, ?B/s]"
      ]
     },
     "metadata": {},
     "output_type": "display_data"
    },
    {
     "data": {
      "application/vnd.jupyter.widget-view+json": {
       "model_id": "807dab2d000e4467a736d51c877ba956",
       "version_major": 2,
       "version_minor": 0
      },
      "text/plain": [
       "Downloading:   0%|          | 0.00/571 [00:00<?, ?B/s]"
      ]
     },
     "metadata": {},
     "output_type": "display_data"
    },
    {
     "data": {
      "application/vnd.jupyter.widget-view+json": {
       "model_id": "698d4de7cd284d2c91c1a33e684f89c9",
       "version_major": 2,
       "version_minor": 0
      },
      "text/plain": [
       "Downloading:   0%|          | 0.00/116 [00:00<?, ?B/s]"
      ]
     },
     "metadata": {},
     "output_type": "display_data"
    },
    {
     "data": {
      "application/vnd.jupyter.widget-view+json": {
       "model_id": "f9e9516364824269a2f3a2764fb10040",
       "version_major": 2,
       "version_minor": 0
      },
      "text/plain": [
       "Downloading:   0%|          | 0.00/39.3k [00:00<?, ?B/s]"
      ]
     },
     "metadata": {},
     "output_type": "display_data"
    },
    {
     "data": {
      "application/vnd.jupyter.widget-view+json": {
       "model_id": "3ab1d09134314255a385a1b626b15340",
       "version_major": 2,
       "version_minor": 0
      },
      "text/plain": [
       "Downloading:   0%|          | 0.00/438M [00:00<?, ?B/s]"
      ]
     },
     "metadata": {},
     "output_type": "display_data"
    },
    {
     "data": {
      "application/vnd.jupyter.widget-view+json": {
       "model_id": "f7a6a08f486d4df89d8de55860253570",
       "version_major": 2,
       "version_minor": 0
      },
      "text/plain": [
       "Downloading:   0%|          | 0.00/53.0 [00:00<?, ?B/s]"
      ]
     },
     "metadata": {},
     "output_type": "display_data"
    },
    {
     "data": {
      "application/vnd.jupyter.widget-view+json": {
       "model_id": "3b2560518d434841a8e92a606b4e6291",
       "version_major": 2,
       "version_minor": 0
      },
      "text/plain": [
       "Downloading:   0%|          | 0.00/239 [00:00<?, ?B/s]"
      ]
     },
     "metadata": {},
     "output_type": "display_data"
    },
    {
     "data": {
      "application/vnd.jupyter.widget-view+json": {
       "model_id": "07fcd18e526649ab8a80b8c170484e74",
       "version_major": 2,
       "version_minor": 0
      },
      "text/plain": [
       "Downloading:   0%|          | 0.00/466k [00:00<?, ?B/s]"
      ]
     },
     "metadata": {},
     "output_type": "display_data"
    },
    {
     "data": {
      "application/vnd.jupyter.widget-view+json": {
       "model_id": "4cb49b2c247946d6b38b61cd16ab9cef",
       "version_major": 2,
       "version_minor": 0
      },
      "text/plain": [
       "Downloading:   0%|          | 0.00/363 [00:00<?, ?B/s]"
      ]
     },
     "metadata": {},
     "output_type": "display_data"
    },
    {
     "data": {
      "application/vnd.jupyter.widget-view+json": {
       "model_id": "4182fbec7769476ab5cab3e45f2ba840",
       "version_major": 2,
       "version_minor": 0
      },
      "text/plain": [
       "Downloading:   0%|          | 0.00/13.1k [00:00<?, ?B/s]"
      ]
     },
     "metadata": {},
     "output_type": "display_data"
    },
    {
     "data": {
      "application/vnd.jupyter.widget-view+json": {
       "model_id": "73e9ee0fe8584cc69612c718b429f1a3",
       "version_major": 2,
       "version_minor": 0
      },
      "text/plain": [
       "Downloading:   0%|          | 0.00/232k [00:00<?, ?B/s]"
      ]
     },
     "metadata": {},
     "output_type": "display_data"
    },
    {
     "data": {
      "application/vnd.jupyter.widget-view+json": {
       "model_id": "5364ee02397e4d29ab5b666a8fb37467",
       "version_major": 2,
       "version_minor": 0
      },
      "text/plain": [
       "Downloading:   0%|          | 0.00/349 [00:00<?, ?B/s]"
      ]
     },
     "metadata": {},
     "output_type": "display_data"
    }
   ],
   "source": [
    "from sentence_transformers import SentenceTransformer\n",
    "\n",
    "model = SentenceTransformer('sentence-transformers/all-mpnet-base-v2')"
   ]
  },
  {
   "cell_type": "code",
   "execution_count": 13,
   "id": "249ad360",
   "metadata": {
    "execution": {
     "iopub.execute_input": "2022-10-31T22:12:26.811133Z",
     "iopub.status.busy": "2022-10-31T22:12:26.810735Z",
     "iopub.status.idle": "2022-10-31T22:15:08.380355Z",
     "shell.execute_reply": "2022-10-31T22:15:08.379741Z",
     "shell.execute_reply.started": "2022-10-31T22:12:26.811105Z"
    },
    "tags": []
   },
   "outputs": [],
   "source": [
    "# Create embeddings from the title and abstract\n",
    "emb = model.encode(df.apply(lambda r: clean_description(r['title'] + ' ' + r['abstract']), axis=1).tolist())"
   ]
  },
  {
   "cell_type": "code",
   "execution_count": 14,
   "id": "f7b4974a",
   "metadata": {
    "execution": {
     "iopub.execute_input": "2022-10-31T22:15:51.739517Z",
     "iopub.status.busy": "2022-10-31T22:15:51.739109Z",
     "iopub.status.idle": "2022-10-31T22:15:52.099008Z",
     "shell.execute_reply": "2022-10-31T22:15:52.098398Z",
     "shell.execute_reply.started": "2022-10-31T22:15:51.739489Z"
    }
   },
   "outputs": [],
   "source": [
    "# Add embeddings to df\n",
    "df = df.reset_index().drop('index', axis=1)\n",
    "df['vector'] = emb.tolist()"
   ]
  },
  {
   "cell_type": "code",
   "execution_count": 15,
   "id": "ab41fe6c-5620-489f-9004-cb0fe0b094cb",
   "metadata": {
    "execution": {
     "iopub.execute_input": "2022-10-31T22:15:53.466867Z",
     "iopub.status.busy": "2022-10-31T22:15:53.466452Z",
     "iopub.status.idle": "2022-10-31T22:15:53.868151Z",
     "shell.execute_reply": "2022-10-31T22:15:53.867555Z",
     "shell.execute_reply.started": "2022-10-31T22:15:53.466839Z"
    },
    "tags": []
   },
   "outputs": [],
   "source": [
    "import pickle\n",
    "\n",
    "# Export to file!\n",
    "with open('arxiv_embeddings_10000.pkl', 'wb') as f:\n",
    "    data = pickle.dumps(df)\n",
    "    f.write(data)"
   ]
  },
  {
   "cell_type": "code",
   "execution_count": null,
   "id": "c5b31b8b-9763-477e-9715-cc7d927ce435",
   "metadata": {},
   "outputs": [],
   "source": []
  },
  {
   "cell_type": "code",
   "execution_count": null,
   "id": "72b23b27-b3a0-4a6b-a2fe-10a7826a7953",
   "metadata": {},
   "outputs": [],
   "source": []
  },
  {
   "cell_type": "code",
   "execution_count": 85,
   "id": "6f741909-ec2f-42c9-9011-afedbd031c60",
   "metadata": {
    "execution": {
     "iopub.execute_input": "2022-10-31T23:33:16.488939Z",
     "iopub.status.busy": "2022-10-31T23:33:16.488552Z",
     "iopub.status.idle": "2022-10-31T23:33:19.661142Z",
     "shell.execute_reply": "2022-10-31T23:33:19.660412Z",
     "shell.execute_reply.started": "2022-10-31T23:33:16.488913Z"
    },
    "tags": []
   },
   "outputs": [
    {
     "name": "stdout",
     "output_type": "stream",
     "text": [
      "huggingface/tokenizers: The current process just got forked, after parallelism has already been used. Disabling parallelism to avoid deadlocks...\n",
      "To disable this warning, you can either:\n",
      "\t- Avoid using `tokenizers` before the fork if possible\n",
      "\t- Explicitly set the environment variable TOKENIZERS_PARALLELISM=(true | false)\n",
      "Note: you may need to restart the kernel to use updated packages.\n"
     ]
    }
   ],
   "source": [
    "%pip install -q redis-om"
   ]
  },
  {
   "cell_type": "code",
   "execution_count": 5,
   "id": "bfe01610-665f-4536-847c-2f37dcf43df0",
   "metadata": {
    "execution": {
     "iopub.execute_input": "2022-11-01T00:03:07.884177Z",
     "iopub.status.busy": "2022-11-01T00:03:07.883798Z",
     "iopub.status.idle": "2022-11-01T00:03:11.498703Z",
     "shell.execute_reply": "2022-11-01T00:03:11.498199Z",
     "shell.execute_reply.started": "2022-11-01T00:03:07.884150Z"
    },
    "tags": []
   },
   "outputs": [
    {
     "name": "stdout",
     "output_type": "stream",
     "text": [
      "REDIS_PASSWORD= ········\n"
     ]
    },
    {
     "data": {
      "text/plain": [
       "8"
      ]
     },
     "execution_count": 5,
     "metadata": {},
     "output_type": "execute_result"
    }
   ],
   "source": [
    "import getpass\n",
    "\n",
    "REDIS_PASSWORD = getpass.getpass('REDIS_PASSWORD=')\n",
    "len(REDIS_PASSWORD)"
   ]
  },
  {
   "cell_type": "code",
   "execution_count": 6,
   "id": "ca13fc81-78cb-4218-9e11-74073743b747",
   "metadata": {
    "execution": {
     "iopub.execute_input": "2022-11-01T00:03:12.745482Z",
     "iopub.status.busy": "2022-11-01T00:03:12.745098Z",
     "iopub.status.idle": "2022-11-01T00:03:12.758157Z",
     "shell.execute_reply": "2022-11-01T00:03:12.757651Z",
     "shell.execute_reply.started": "2022-11-01T00:03:12.745456Z"
    },
    "tags": []
   },
   "outputs": [],
   "source": [
    "import os"
   ]
  },
  {
   "cell_type": "code",
   "execution_count": 158,
   "id": "fcc5bcb6-858c-4910-ad7e-a876517af79c",
   "metadata": {
    "execution": {
     "iopub.execute_input": "2022-11-01T00:52:29.040522Z",
     "iopub.status.busy": "2022-11-01T00:52:29.040131Z",
     "iopub.status.idle": "2022-11-01T00:52:29.054691Z",
     "shell.execute_reply": "2022-11-01T00:52:29.054194Z",
     "shell.execute_reply.started": "2022-11-01T00:52:29.040497Z"
    },
    "tags": []
   },
   "outputs": [],
   "source": [
    "os.environ['REDIS_HOSTPORT'] = 'redis-14540.c21985.us-central1-1.gcp.cloud.rlrcp.com:14540'\n",
    "os.environ['REDIS_USERNAME'] = 'machine-untitled-dev'\n",
    "os.environ['REDIS_PASSWORD'] = REDIS_PASSWORD\n",
    "\n",
    "os.environ['REDIS_OM_URL'] = f'redis://{REDIS_USERNAME}:{REDIS_PASSWORD}@{REDIS_HOSTPORT}'\n",
    "\n",
    "os.environ['DATA_LOCATION'] = '.'"
   ]
  },
  {
   "cell_type": "code",
   "execution_count": 159,
   "id": "2c82265b-56c7-47b0-92ea-b5bef8f261a4",
   "metadata": {
    "execution": {
     "iopub.execute_input": "2022-11-01T00:52:30.043894Z",
     "iopub.status.busy": "2022-11-01T00:52:30.043566Z",
     "iopub.status.idle": "2022-11-01T00:52:30.056913Z",
     "shell.execute_reply": "2022-11-01T00:52:30.056421Z",
     "shell.execute_reply.started": "2022-11-01T00:52:30.043870Z"
    },
    "tags": []
   },
   "outputs": [],
   "source": [
    "from vecsim_app.load_data import load_all_data"
   ]
  },
  {
   "cell_type": "code",
   "execution_count": 160,
   "id": "ac7e44f7-849c-4c33-a2c0-5fa185627cac",
   "metadata": {
    "execution": {
     "iopub.execute_input": "2022-11-01T00:52:30.605915Z",
     "iopub.status.busy": "2022-11-01T00:52:30.605417Z",
     "iopub.status.idle": "2022-11-01T00:52:30.619305Z",
     "shell.execute_reply": "2022-11-01T00:52:30.618840Z",
     "shell.execute_reply.started": "2022-11-01T00:52:30.605894Z"
    },
    "tags": []
   },
   "outputs": [],
   "source": [
    "import redis.asyncio as redis\n",
    "\n",
    "REDIS_HOSTPORT = os.environ['REDIS_HOSTPORT']\n",
    "REDIS_USERNAME = os.environ['REDIS_USERNAME']\n",
    "REDIS_PASSWORD = os.environ['REDIS_PASSWORD']"
   ]
  },
  {
   "cell_type": "code",
   "execution_count": 130,
   "id": "1fe0ff83-fe5e-476d-8e9e-a480a9768c55",
   "metadata": {
    "execution": {
     "iopub.execute_input": "2022-11-01T00:47:36.985230Z",
     "iopub.status.busy": "2022-11-01T00:47:36.984844Z",
     "iopub.status.idle": "2022-11-01T00:47:50.448192Z",
     "shell.execute_reply": "2022-11-01T00:47:50.447656Z",
     "shell.execute_reply.started": "2022-11-01T00:47:36.985205Z"
    },
    "tags": []
   },
   "outputs": [
    {
     "name": "stdout",
     "output_type": "stream",
     "text": [
      "Ping successful: True\n",
      "Loading papers into Vecsim App\n",
      "Papers loaded!\n",
      "Creating vector search index\n",
      "Search index created\n"
     ]
    }
   ],
   "source": [
    "await load_all_data()"
   ]
  },
  {
   "cell_type": "code",
   "execution_count": null,
   "id": "244a2389-2b8d-46b9-a4a2-ba8156a30a93",
   "metadata": {},
   "outputs": [],
   "source": []
  },
  {
   "cell_type": "code",
   "execution_count": null,
   "id": "e8aaaa34-677b-4019-a28d-6e239696b845",
   "metadata": {},
   "outputs": [],
   "source": []
  },
  {
   "cell_type": "code",
   "execution_count": 131,
   "id": "beabb0d4-2e70-4633-96f7-15740ebfe8a9",
   "metadata": {
    "execution": {
     "iopub.execute_input": "2022-11-01T00:47:52.902631Z",
     "iopub.status.busy": "2022-11-01T00:47:52.902247Z",
     "iopub.status.idle": "2022-11-01T00:47:53.022149Z",
     "shell.execute_reply": "2022-11-01T00:47:53.021615Z",
     "shell.execute_reply.started": "2022-11-01T00:47:52.902606Z"
    },
    "tags": []
   },
   "outputs": [
    {
     "name": "stdout",
     "output_type": "stream",
     "text": [
      "Ping successful: True\n"
     ]
    }
   ],
   "source": [
    "redis_conn = redis.from_url(f'redis://{REDIS_HOSTPORT}',\n",
    "                                username=REDIS_USERNAME,\n",
    "                                password=REDIS_PASSWORD)\n",
    "print(f\"Ping successful: {await redis_conn.ping()}\")"
   ]
  },
  {
   "cell_type": "code",
   "execution_count": 132,
   "id": "15abce24-b9ec-44e3-8a0a-597fa36875ab",
   "metadata": {
    "execution": {
     "iopub.execute_input": "2022-11-01T00:47:53.413555Z",
     "iopub.status.busy": "2022-11-01T00:47:53.413259Z",
     "iopub.status.idle": "2022-11-01T00:47:53.426793Z",
     "shell.execute_reply": "2022-11-01T00:47:53.426274Z",
     "shell.execute_reply.started": "2022-11-01T00:47:53.413533Z"
    },
    "tags": []
   },
   "outputs": [],
   "source": [
    "from vecsim_app.search_index import SearchIndex\n",
    "import asyncio"
   ]
  },
  {
   "cell_type": "code",
   "execution_count": 133,
   "id": "ca443b77-557e-4d78-8478-4aa6a8e54829",
   "metadata": {
    "execution": {
     "iopub.execute_input": "2022-11-01T00:47:53.794142Z",
     "iopub.status.busy": "2022-11-01T00:47:53.793620Z",
     "iopub.status.idle": "2022-11-01T00:47:53.806881Z",
     "shell.execute_reply": "2022-11-01T00:47:53.806407Z",
     "shell.execute_reply.started": "2022-11-01T00:47:53.794121Z"
    },
    "tags": []
   },
   "outputs": [],
   "source": [
    "search_index = SearchIndex()"
   ]
  },
  {
   "cell_type": "code",
   "execution_count": 134,
   "id": "4b45545c-9e47-4ce1-9c6c-715f961e57a0",
   "metadata": {
    "execution": {
     "iopub.execute_input": "2022-11-01T00:47:54.278705Z",
     "iopub.status.busy": "2022-11-01T00:47:54.278207Z",
     "iopub.status.idle": "2022-11-01T00:47:54.291512Z",
     "shell.execute_reply": "2022-11-01T00:47:54.291017Z",
     "shell.execute_reply.started": "2022-11-01T00:47:54.278684Z"
    },
    "tags": []
   },
   "outputs": [],
   "source": [
    "categories = 'cs.LG,cs.CG,cs.CV,math.OC,cs.LG'.split(',')\n",
    "years = [2014, 2015]\n",
    "similar_paper_id = '0705.4485'  # https://arxiv.org/pdf/0705.4485.pdf \"Mixed Membership Stochastic Blockmodels\"\n",
    "# paper_vector:1104.1990\n",
    "# paper_vector:0808.3231\n",
    "# paper_vector:1009.3613\n",
    "# paper_vector:1207.1655\n",
    "# paper_vector:1101.4752"
   ]
  },
  {
   "cell_type": "code",
   "execution_count": 135,
   "id": "4478ef36-53dd-498b-b48e-72a6bc1b51ac",
   "metadata": {
    "execution": {
     "iopub.execute_input": "2022-11-01T00:47:55.412230Z",
     "iopub.status.busy": "2022-11-01T00:47:55.411837Z",
     "iopub.status.idle": "2022-11-01T00:47:55.427314Z",
     "shell.execute_reply": "2022-11-01T00:47:55.426767Z",
     "shell.execute_reply.started": "2022-11-01T00:47:55.412203Z"
    },
    "tags": []
   },
   "outputs": [],
   "source": [
    "query = search_index.vector_query(\n",
    "    categories=categories,\n",
    "    years=years,\n",
    ")\n",
    "count_query = search_index.count_query(\n",
    "    categories=categories,\n",
    "    years=years,\n",
    ")"
   ]
  },
  {
   "cell_type": "code",
   "execution_count": 161,
   "id": "e2331582-651f-40c4-8cca-20efbc782db2",
   "metadata": {
    "execution": {
     "iopub.execute_input": "2022-11-01T00:53:11.873047Z",
     "iopub.status.busy": "2022-11-01T00:53:11.872655Z",
     "iopub.status.idle": "2022-11-01T00:53:11.978953Z",
     "shell.execute_reply": "2022-11-01T00:53:11.978416Z",
     "shell.execute_reply.started": "2022-11-01T00:53:11.873020Z"
    }
   },
   "outputs": [],
   "source": [
    "INDEX_NAME = 'papers'"
   ]
  },
  {
   "cell_type": "code",
   "execution_count": 163,
   "id": "7937aa13-6be9-4b90-9ac3-93b0160a56b5",
   "metadata": {
    "execution": {
     "iopub.execute_input": "2022-11-01T00:53:29.258016Z",
     "iopub.status.busy": "2022-11-01T00:53:29.257661Z",
     "iopub.status.idle": "2022-11-01T00:53:29.457747Z",
     "shell.execute_reply": "2022-11-01T00:53:29.457245Z",
     "shell.execute_reply.started": "2022-11-01T00:53:29.257992Z"
    },
    "tags": []
   },
   "outputs": [],
   "source": [
    "# # see routes.py\n",
    "\n",
    "paper_vector_key = \"paper_vector:\" + similar_paper_id\n",
    "vector = await redis_conn.hget(paper_vector_key, \"vector\")\n",
    "    \n",
    "total, results = await asyncio.gather(\n",
    "    redis_conn.ft().search(count_query),\n",
    "    redis_conn.ft().search(query, query_params={\"vec_param\": vector})\n",
    ")"
   ]
  },
  {
   "cell_type": "code",
   "execution_count": 175,
   "id": "d197acfe-79a2-4b57-aac9-a133de3ba881",
   "metadata": {
    "execution": {
     "iopub.execute_input": "2022-11-01T00:56:49.874437Z",
     "iopub.status.busy": "2022-11-01T00:56:49.874056Z",
     "iopub.status.idle": "2022-11-01T00:56:49.888090Z",
     "shell.execute_reply": "2022-11-01T00:56:49.887574Z",
     "shell.execute_reply.started": "2022-11-01T00:56:49.874410Z"
    },
    "tags": []
   },
   "outputs": [],
   "source": [
    "p = results.docs[0]"
   ]
  },
  {
   "cell_type": "code",
   "execution_count": 177,
   "id": "dfd191c4-48f5-4aed-9e89-054d78418522",
   "metadata": {
    "execution": {
     "iopub.execute_input": "2022-11-01T00:57:01.553693Z",
     "iopub.status.busy": "2022-11-01T00:57:01.553312Z",
     "iopub.status.idle": "2022-11-01T00:57:01.568626Z",
     "shell.execute_reply": "2022-11-01T00:57:01.568142Z",
     "shell.execute_reply.started": "2022-11-01T00:57:01.553666Z"
    },
    "tags": []
   },
   "outputs": [
    {
     "data": {
      "text/plain": [
       "{'id': 'paper_vector:0705.4485',\n",
       " 'payload': None,\n",
       " 'vector_score': '0',\n",
       " 'paper_id': '0705.4485',\n",
       " 'paper_pk': '01GGRAGY16BCN43QR59J6DPSEH'}"
      ]
     },
     "execution_count": 177,
     "metadata": {},
     "output_type": "execute_result"
    }
   ],
   "source": [
    "vars(p)\n"
   ]
  },
  {
   "cell_type": "code",
   "execution_count": 180,
   "id": "9312d92b-a20e-4f06-b7ee-c4940a3f8a86",
   "metadata": {
    "execution": {
     "iopub.execute_input": "2022-11-01T00:57:30.512396Z",
     "iopub.status.busy": "2022-11-01T00:57:30.512001Z",
     "iopub.status.idle": "2022-11-01T00:57:30.528883Z",
     "shell.execute_reply": "2022-11-01T00:57:30.528388Z",
     "shell.execute_reply.started": "2022-11-01T00:57:30.512370Z"
    },
    "tags": []
   },
   "outputs": [],
   "source": [
    "from vecsim_app.models import Paper\n",
    "\n",
    "async def process_paper(p, i: int) -> dict:\n",
    "    # paper = await Paper.get(p.paper_pk)\n",
    "    d = vars(p)\n",
    "    score = 1 - float(p.vector_score)\n",
    "    d['similarity_score'] = score\n",
    "    return d\n",
    "\n",
    "async def papers_from_results(total, results) -> dict:\n",
    "    # extract papers from VSS results\n",
    "    return {\n",
    "        'total': vars(total),\n",
    "        'papers': [\n",
    "            await process_paper(p, i)\n",
    "            for i, p in enumerate(results.docs)\n",
    "        ]\n",
    "    }"
   ]
  },
  {
   "cell_type": "code",
   "execution_count": 181,
   "id": "db2ebc7e-2a3a-4b0f-956f-bf9bcd8efbb4",
   "metadata": {
    "execution": {
     "iopub.execute_input": "2022-11-01T00:57:31.615272Z",
     "iopub.status.busy": "2022-11-01T00:57:31.614886Z",
     "iopub.status.idle": "2022-11-01T00:57:31.633698Z",
     "shell.execute_reply": "2022-11-01T00:57:31.633216Z",
     "shell.execute_reply.started": "2022-11-01T00:57:31.615247Z"
    },
    "tags": []
   },
   "outputs": [
    {
     "data": {
      "text/plain": [
       "{'total': {'total': 402,\n",
       "  'duration': 31.348228454589844,\n",
       "  'docs': [Document {'id': 'paper_vector:1012.3697', 'payload': None},\n",
       "   Document {'id': 'paper_vector:1303.7117', 'payload': None},\n",
       "   Document {'id': 'paper_vector:1304.1014', 'payload': None},\n",
       "   Document {'id': 'paper_vector:1402.1473', 'payload': None},\n",
       "   Document {'id': 'paper_vector:1405.4807', 'payload': None},\n",
       "   Document {'id': 'paper_vector:1201.5604', 'payload': None},\n",
       "   Document {'id': 'paper_vector:1308.5200', 'payload': None},\n",
       "   Document {'id': 'paper_vector:1310.2273', 'payload': None},\n",
       "   Document {'id': 'paper_vector:1408.3693', 'payload': None},\n",
       "   Document {'id': 'paper_vector:1606.07286', 'payload': None}]},\n",
       " 'papers': [{'id': 'paper_vector:0705.4485',\n",
       "   'payload': None,\n",
       "   'vector_score': '0',\n",
       "   'paper_id': '0705.4485',\n",
       "   'paper_pk': '01GGRAGY16BCN43QR59J6DPSEH',\n",
       "   'similarity_score': 1.0},\n",
       "  {'id': 'paper_vector:1411.5404',\n",
       "   'payload': None,\n",
       "   'vector_score': '0.363725543022',\n",
       "   'paper_id': '1411.5404',\n",
       "   'paper_pk': '01GGRAGZ1VB22BZG32EYG2SFPW',\n",
       "   'similarity_score': 0.636274456978},\n",
       "  {'id': 'paper_vector:1403.0921',\n",
       "   'payload': None,\n",
       "   'vector_score': '0.379662811756',\n",
       "   'paper_id': '1403.0921',\n",
       "   'paper_pk': '01GGRAGYXP1PDDVA4ZZ4VBV1G0',\n",
       "   'similarity_score': 0.6203371882440001},\n",
       "  {'id': 'paper_vector:1401.0852',\n",
       "   'payload': None,\n",
       "   'vector_score': '0.40549236536',\n",
       "   'paper_id': '1401.0852',\n",
       "   'paper_pk': '01GGRAGYWE3YYY5D5DBABB4G5M',\n",
       "   'similarity_score': 0.59450763464},\n",
       "  {'id': 'paper_vector:1609.06826',\n",
       "   'payload': None,\n",
       "   'vector_score': '0.428227782249',\n",
       "   'paper_id': '1609.06826',\n",
       "   'paper_pk': '01GGRAGZG4S9D2Y5GG3SW5PF91',\n",
       "   'similarity_score': 0.5717722177510001},\n",
       "  {'id': 'paper_vector:1302.2671',\n",
       "   'payload': None,\n",
       "   'vector_score': '0.463521301746',\n",
       "   'paper_id': '1302.2671',\n",
       "   'paper_pk': '01GGRAGYR0DF46RWCD8YJ18WNQ',\n",
       "   'similarity_score': 0.536478698254},\n",
       "  {'id': 'paper_vector:1210.7559',\n",
       "   'payload': None,\n",
       "   'vector_score': '0.465943038464',\n",
       "   'paper_id': '1210.7559',\n",
       "   'paper_pk': '01GGRAGYP5SW189760CV1F90N7',\n",
       "   'similarity_score': 0.534056961536},\n",
       "  {'id': 'paper_vector:1504.06796',\n",
       "   'payload': None,\n",
       "   'vector_score': '0.479724943638',\n",
       "   'paper_id': '1504.06796',\n",
       "   'paper_pk': '01GGRAGZ4VEPDAXWTCZW1T6JTB',\n",
       "   'similarity_score': 0.520275056362},\n",
       "  {'id': 'paper_vector:1308.2302',\n",
       "   'payload': None,\n",
       "   'vector_score': '0.481505334377',\n",
       "   'paper_id': '1308.2302',\n",
       "   'paper_pk': '01GGRAGYT3A9K36PCTGJWAQ45H',\n",
       "   'similarity_score': 0.5184946656230001},\n",
       "  {'id': 'paper_vector:1309.5655',\n",
       "   'payload': None,\n",
       "   'vector_score': '0.48217689991',\n",
       "   'paper_id': '1309.5655',\n",
       "   'paper_pk': '01GGRAGYTZFNEENNRXCP1ZGRWS',\n",
       "   'similarity_score': 0.51782310009},\n",
       "  {'id': 'paper_vector:1303.5613',\n",
       "   'payload': None,\n",
       "   'vector_score': '0.489068925381',\n",
       "   'paper_id': '1303.5613',\n",
       "   'paper_pk': '01GGRAGYRFRPHASDC05P3KS75N',\n",
       "   'similarity_score': 0.510931074619},\n",
       "  {'id': 'paper_vector:1211.2190',\n",
       "   'payload': None,\n",
       "   'vector_score': '0.493484079838',\n",
       "   'paper_id': '1211.2190',\n",
       "   'paper_pk': '01GGRAGYPVYGNV1Z7FC3HSJ6R8',\n",
       "   'similarity_score': 0.506515920162},\n",
       "  {'id': 'paper_vector:1104.4803',\n",
       "   'payload': None,\n",
       "   'vector_score': '0.494011938572',\n",
       "   'paper_id': '1104.4803',\n",
       "   'paper_pk': '01GGRAGY1FBNZ0CT9XX5EMPY74',\n",
       "   'similarity_score': 0.505988061428},\n",
       "  {'id': 'paper_vector:1310.1533',\n",
       "   'payload': None,\n",
       "   'vector_score': '0.498559594154',\n",
       "   'paper_id': '1310.1533',\n",
       "   'paper_pk': '01GGRAGYV8K2WX6P3K1MA0N10H',\n",
       "   'similarity_score': 0.501440405846},\n",
       "  {'id': 'paper_vector:1601.02327',\n",
       "   'payload': None,\n",
       "   'vector_score': '0.504896819592',\n",
       "   'paper_id': '1601.02327',\n",
       "   'paper_pk': '01GGRAGZ9RVMA1Y9SEX8YCVQFS',\n",
       "   'similarity_score': 0.49510318040800005},\n",
       "  {'id': 'paper_vector:1402.0030',\n",
       "   'payload': None,\n",
       "   'vector_score': '0.514042258263',\n",
       "   'paper_id': '1402.0030',\n",
       "   'paper_pk': '01GGRAGYX0P3GKNTAQ4GR04RWE',\n",
       "   'similarity_score': 0.485957741737},\n",
       "  {'id': 'paper_vector:1506.06962',\n",
       "   'payload': None,\n",
       "   'vector_score': '0.516695380211',\n",
       "   'paper_id': '1506.06962',\n",
       "   'paper_pk': '01GGRAGZ5SFD9MXCTTQCM8DYSH',\n",
       "   'similarity_score': 0.48330461978899997},\n",
       "  {'id': 'paper_vector:1502.00163',\n",
       "   'payload': None,\n",
       "   'vector_score': '0.517045855522',\n",
       "   'paper_id': '1502.00163',\n",
       "   'paper_pk': '01GGRAGZ2ZSEGGCASTVRTS553D',\n",
       "   'similarity_score': 0.482954144478},\n",
       "  {'id': 'paper_vector:1303.2221',\n",
       "   'payload': None,\n",
       "   'vector_score': '0.517109513283',\n",
       "   'paper_id': '1303.2221',\n",
       "   'paper_pk': '01GGRAGYRBJPXNA80Y78TYSFZY',\n",
       "   'similarity_score': 0.48289048671699997},\n",
       "  {'id': 'paper_vector:1206.3713',\n",
       "   'payload': None,\n",
       "   'vector_score': '0.51807975769',\n",
       "   'paper_id': '1206.3713',\n",
       "   'paper_pk': '01GGRAGY24KE1F9B8JMP6EMBQK',\n",
       "   'similarity_score': 0.48192024230999997}]}"
      ]
     },
     "execution_count": 181,
     "metadata": {},
     "output_type": "execute_result"
    }
   ],
   "source": [
    "await papers_from_results(total, results)"
   ]
  },
  {
   "cell_type": "code",
   "execution_count": null,
   "id": "a8cc3c13-34d4-44b6-8c8d-721bd8f3b551",
   "metadata": {},
   "outputs": [],
   "source": []
  }
 ],
 "metadata": {
  "kernelspec": {
   "display_name": "Python 3.7.12 ('.venv': venv)",
   "language": "python",
   "name": "python3"
  },
  "language_info": {
   "codemirror_mode": {
    "name": "ipython",
    "version": 3
   },
   "file_extension": ".py",
   "mimetype": "text/x-python",
   "name": "python",
   "nbconvert_exporter": "python",
   "pygments_lexer": "ipython3",
   "version": "3.7.12"
  },
  "vscode": {
   "interpreter": {
    "hash": "5dc6d5e1128e2c583a4f573ab9e82bbdef099c881f288256564b68ba295a40ac"
   }
  }
 },
 "nbformat": 4,
 "nbformat_minor": 5
}
